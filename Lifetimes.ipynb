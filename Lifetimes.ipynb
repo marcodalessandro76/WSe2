{
 "cells": [
  {
   "cell_type": "code",
   "execution_count": 1,
   "metadata": {},
   "outputs": [],
   "source": [
    "# useful to autoreload the module without restarting the kernel\n",
    "%load_ext autoreload\n",
    "%autoreload 2"
   ]
  },
  {
   "cell_type": "code",
   "execution_count": 2,
   "metadata": {},
   "outputs": [],
   "source": [
    "from mppi import InputFiles as I, Calculators as C, Datasets as D, Utilities as U, Parsers as P\n",
    "from mppi.Utilities import Constants as Const\n",
    "from mppi.Models import GaussianPulse as G\n",
    "from mppi.Calculators import Tools\n",
    "from mppi.Datasets import PostProcessing as PP\n",
    "from mppi.Utilities.Utils import file_parser\n",
    "import matplotlib.pyplot as plt\n",
    "import numpy as np\n",
    "import os\n",
    "\n",
    "h_red = Const.Planck_reduced_ev_fs\n",
    "h = Const.Planck_ev_fs\n",
    "light_speed = Const.Light_speed_nm_fsm1"
   ]
  },
  {
   "cell_type": "code",
   "execution_count": 3,
   "metadata": {},
   "outputs": [
    {
     "name": "stdout",
     "output_type": "stream",
     "text": [
      "Initialize a Yambo calculator with scheduler direct\n"
     ]
    }
   ],
   "source": [
    "# RunRules for local computations\n",
    "mpi = 4\n",
    "omp = 2\n",
    "\n",
    "rr = C.RunRules(omp_num_threads=omp,mpi=mpi)\n",
    "code = C.YamboCalculator(rr)\n",
    "#code.global_options()"
   ]
  },
  {
   "cell_type": "code",
   "execution_count": 3,
   "metadata": {},
   "outputs": [
    {
     "name": "stdout",
     "output_type": "stream",
     "text": [
      "Initialize a Yambo calculator with scheduler slurm\n"
     ]
    },
    {
     "data": {
      "text/plain": [
       "{'scheduler': 'slurm',\n",
       " 'nodes': 2,\n",
       " 'ntasks_per_node': 32,\n",
       " 'cpus_per_task': 1,\n",
       " 'omp_num_threads': 1,\n",
       " 'gpus_per_node': None,\n",
       " 'memory': '125000',\n",
       " 'time': None,\n",
       " 'partition': 'all12h',\n",
       " 'account': None,\n",
       " 'qos': None,\n",
       " 'map_by': None,\n",
       " 'pe': 1,\n",
       " 'rank_by': None,\n",
       " 'pre_processing': '/home/dalessandro/module_script/yambo_module',\n",
       " 'executable': 'yambo',\n",
       " 'skip': True,\n",
       " 'clean_restart': True,\n",
       " 'dry_run': False,\n",
       " 'wait_end_run': True,\n",
       " 'activate_BeeOND': True,\n",
       " 'verbose': True,\n",
       " 'fatlog': False}"
      ]
     },
     "execution_count": 3,
     "metadata": {},
     "output_type": "execute_result"
    }
   ],
   "source": [
    "# RunRules for ismhpc\n",
    "# The product of ntasks_per_node*cpus_per_task is equal to 32. \n",
    "# Many mpi are needed for better performances\n",
    "nodes = 2\n",
    "ntasks_per_node = 32 #16\n",
    "cpus_per_task = 1 #2\n",
    "omp_num_threads = 1 #2\n",
    "module = '/home/dalessandro/module_script/yambo_module'\n",
    "\n",
    "ntasks = nodes*ntasks_per_node\n",
    "\n",
    "rr = C.RunRules(scheduler='slurm',partition='all12h',\n",
    "                memory='125000',\n",
    "                nodes=nodes,ntasks_per_node=ntasks_per_node,\n",
    "                cpus_per_task=cpus_per_task,\n",
    "                omp_num_threads=omp_num_threads,pre_processing=module)\n",
    "code = C.YamboCalculator(rr,executable='yambo',activate_BeeOND=True)\n",
    "code.global_options()"
   ]
  },
  {
   "cell_type": "markdown",
   "metadata": {
    "tags": []
   },
   "source": [
    "# Analysis of the Lifetimes"
   ]
  },
  {
   "cell_type": "markdown",
   "metadata": {},
   "source": [
    "We study the lifetimes of the QP both in the equilibrium and in the NEQ regime."
   ]
  },
  {
   "cell_type": "markdown",
   "metadata": {},
   "source": [
    "## EQ Analysis"
   ]
  },
  {
   "cell_type": "markdown",
   "metadata": {},
   "source": [
    "We study the distribution of the lifetimes in function of the energies of the QP in the equilibrium regime\n",
    "\n",
    "We select a $k$-samplings"
   ]
  },
  {
   "cell_type": "code",
   "execution_count": 12,
   "metadata": {},
   "outputs": [
    {
     "data": {
      "text/plain": [
       "'EQ_ABS/9x9x1'"
      ]
     },
     "execution_count": 12,
     "metadata": {},
     "output_type": "execute_result"
    }
   ],
   "source": [
    "run_path = 'EQ_ABS'\n",
    "k = '9x9x1' #'12x12x3'\n",
    "run_dir = os.path.join(run_path,k)\n",
    "run_dir"
   ]
  },
  {
   "cell_type": "code",
   "execution_count": 13,
   "metadata": {},
   "outputs": [
    {
     "name": "stdout",
     "output_type": "stream",
     "text": [
      "SAVE folder EQ_ABS/9x9x1/SAVE already present. No operations performed.\n"
     ]
    }
   ],
   "source": [
    "input_dir = 'DFT_analysis/kpoints_%s-nbnds_100.save'%k\n",
    "Tools.init_yambo_dir(yambo_dir=run_dir,input_dir=input_dir)    "
   ]
  },
  {
   "cell_type": "markdown",
   "metadata": {},
   "source": [
    "We need to perform a convergence analysis in the NGsBlkXs and in the BndsRnXd parameters"
   ]
  },
  {
   "cell_type": "code",
   "execution_count": 53,
   "metadata": {},
   "outputs": [
    {
     "name": "stdout",
     "output_type": "stream",
     "text": [
      "8 8\n",
      "Initialize a Dataset with 1 parallel tasks\n"
     ]
    }
   ],
   "source": [
    "ntasks_c = 8\n",
    "ntasks_v = int(ntasks/ntasks_c)\n",
    "print(ntasks_c,ntasks_v)\n",
    "\n",
    "NGsBlkXd_units = 'RL'\n",
    "elec_field = [1.,0.,0.]\n",
    "QPkrange = [1,50,25,80]\n",
    "scissor = 0.261\n",
    "\n",
    "study = D.Dataset(num_tasks=1,verbose=True)\n",
    "study.set_postprocessing_function(PP.yambo_parse_data)\n",
    "\n",
    "inp = I.YamboInput('yambo -l',folder=run_dir)\n",
    "inp.set_array_variables(KfnQP_E=[scissor,1.,1.])\n",
    "inp.set_scalar_variables(SE_ROLEs='q.qp.b',SE_CPU='2.2.16') # for 2 nodes on ismhpc (with 32 mpi and 1 omp per node)\n",
    "inp.set_scalar_variables(X_and_IO_ROLEs='q.g.k.c.v',X_and_IO_CPU='1.1.1.%s.%s'%(ntasks_c,ntasks_v))\n",
    "\n",
    "NGsBlkXd = 30 # (RL) G size of the response function\n",
    "BndsRnXd = [1,80] # Polarization function bands\n",
    "damping = [0.05,0.05] # eV\n",
    "\n",
    "inp.set_array_variables(units=NGsBlkXd_units,NGsBlkXd=NGsBlkXd)\n",
    "inp.set_array_variables(BndsRnXd=BndsRnXd,LongDrXd=elec_field,QPkrange=QPkrange)\n",
    "inp.set_array_variables(units='eV',DmRngeXd=damping)\n",
    "idd = 'lifetimes-ngsblkxd_%s-bndsrnxd_%s-damping_%s'%(NGsBlkXd,BndsRnXd[1],damping[0])\n",
    "study.append_run(id=idd,input=inp,runner=code,run_dir=run_dir)\n",
    "\n",
    "NGsBlkXd = 50 # (RL) G size of the response function\n",
    "BndsRnXd = [1,80] # Polarization function bands\n",
    "damping = [0.05,0.05] # eV\n",
    "\n",
    "inp.set_array_variables(units=NGsBlkXd_units,NGsBlkXd=NGsBlkXd)\n",
    "inp.set_array_variables(BndsRnXd=BndsRnXd,LongDrXd=elec_field,QPkrange=QPkrange)\n",
    "inp.set_array_variables(units='eV',DmRngeXd=damping)\n",
    "idd = 'lifetimes-ngsblkxd_%s-bndsrnxd_%s-damping_%s'%(NGsBlkXd,BndsRnXd[1],damping[0])\n",
    "study.append_run(id=idd,input=inp,runner=code,run_dir=run_dir)\n",
    "\n",
    "NGsBlkXd = 30 # (RL) G size of the response function\n",
    "BndsRnXd = [1,100] # Polarization function bands\n",
    "damping = [0.05,0.05] # eV\n",
    "\n",
    "inp.set_array_variables(units=NGsBlkXd_units,NGsBlkXd=NGsBlkXd)\n",
    "inp.set_array_variables(BndsRnXd=BndsRnXd,LongDrXd=elec_field,QPkrange=QPkrange)\n",
    "inp.set_array_variables(units='eV',DmRngeXd=damping)\n",
    "idd = 'lifetimes-ngsblkxd_%s-bndsrnxd_%s-damping_%s'%(NGsBlkXd,BndsRnXd[1],damping[0])\n",
    "study.append_run(id=idd,input=inp,runner=code,run_dir=run_dir)"
   ]
  },
  {
   "cell_type": "code",
   "execution_count": 54,
   "metadata": {},
   "outputs": [
    {
     "data": {
      "text/plain": [
       "{'label': 'Dataset',\n",
       " 'run_dir': 'EQ_ABS/9x9x1',\n",
       " 'num_tasks': 1,\n",
       " 'verbose': True,\n",
       " 'input': {'args': 'yambo -l',\n",
       "  'folder': 'EQ_ABS/9x9x1',\n",
       "  'filename': 'yambo.in',\n",
       "  'arguments': ['em1d', 'life'],\n",
       "  'variables': {'DIP_Threads': [0.0, ''],\n",
       "   'X_Threads': [0.0, ''],\n",
       "   'SE_Threads': [0.0, ''],\n",
       "   'LifeTrCG': [100.0, ''],\n",
       "   'NGsBlkXd': [30, 'RL'],\n",
       "   'Chimod': 'HARTREE',\n",
       "   'BndsRnXd': [[1, 100], ''],\n",
       "   'DmRngeXd': [[0.05, 0.05], 'eV'],\n",
       "   'LongDrXd': [[1.0, 0.0, 0.0], ''],\n",
       "   'QPkrange': [[1, 50, 25, 80], ''],\n",
       "   'KfnQP_E': [[0.261, 1.0, 1.0], ''],\n",
       "   'SE_ROLEs': 'q.qp.b',\n",
       "   'SE_CPU': '2.2.16',\n",
       "   'X_and_IO_ROLEs': 'q.g.k.c.v',\n",
       "   'X_and_IO_CPU': '1.1.1.8.8'}},\n",
       " 'name': 'lifetimes-ngsblkxd_30-bndsrnxd_100-damping_0.05'}"
      ]
     },
     "execution_count": 54,
     "metadata": {},
     "output_type": "execute_result"
    }
   ],
   "source": [
    "study.runs[2]"
   ]
  },
  {
   "cell_type": "code",
   "execution_count": 55,
   "metadata": {},
   "outputs": [
    {
     "name": "stdout",
     "output_type": "stream",
     "text": [
      "Run the selection [0, 1, 2] with the parallel task_groups [[0], [1], [2]] \n",
      "\n",
      "Run the task [0] \n",
      "Skip the run of lifetimes-ngsblkxd_30-bndsrnxd_80-damping_0.05\n",
      "Task [0] ended \n",
      " \n",
      "Run the task [1] \n",
      "Skip the run of lifetimes-ngsblkxd_50-bndsrnxd_80-damping_0.05\n",
      "Task [1] ended \n",
      " \n",
      "Run the task [2] \n",
      "run command: mpirun -np 64 yambo -F lifetimes-ngsblkxd_30-bndsrnxd_100-damping_0.05.in -J lifetimes-ngsblkxd_30-bndsrnxd_100-damping_0.05 -C lifetimes-ngsblkxd_30-bndsrnxd_100-damping_0.05\n",
      "slurm submit:  cd EQ_ABS/9x9x1 ; sbatch job_lifetimes-ngsblkxd_30-bndsrnxd_100-damping_0.05.sh\n",
      "computation lifetimes-ngsblkxd_30-bndsrnxd_100-damping_0.05 is running...\n",
      "computation lifetimes-ngsblkxd_30-bndsrnxd_100-damping_0.05 ended\n",
      "Run performed in 04m-56s\n",
      "Task [2] ended \n",
      " \n"
     ]
    }
   ],
   "source": [
    "results = study.run()"
   ]
  },
  {
   "cell_type": "code",
   "execution_count": 56,
   "metadata": {},
   "outputs": [
    {
     "data": {
      "text/plain": [
       "<matplotlib.legend.Legend at 0x7f3fc27fdb00>"
      ]
     },
     "execution_count": 56,
     "metadata": {},
     "output_type": "execute_result"
    },
    {
     "data": {
      "image/png": "[encoded data removed]",
      "text/plain": [
       "<Figure size 720x576 with 1 Axes>"
      ]
     },
     "metadata": {
      "needs_background": "light"
     },
     "output_type": "display_data"
    }
   ],
   "source": [
    "fig, ax = plt.subplots(figsize=(10, 8))\n",
    "\n",
    "for ind,id in enumerate(study.ids):\n",
    "    data = results[ind].data['qp']\n",
    "    width_col = data['col4'] # meV\n",
    "    energy_col = data['col3']\n",
    "    plt.scatter(energy_col,width_col,label=id)\n",
    "plt.legend()"
   ]
  },
  {
   "cell_type": "markdown",
   "metadata": {},
   "source": [
    "Next, we test the stability of the results w.r.t the damping parameter"
   ]
  },
  {
   "cell_type": "code",
   "execution_count": 64,
   "metadata": {},
   "outputs": [
    {
     "name": "stdout",
     "output_type": "stream",
     "text": [
      "8 8\n",
      "Initialize a Dataset with 1 parallel tasks\n"
     ]
    }
   ],
   "source": [
    "ntasks_c = 8\n",
    "ntasks_v = int(ntasks/ntasks_c)\n",
    "print(ntasks_c,ntasks_v)\n",
    "\n",
    "NGsBlkXd_units = 'RL'\n",
    "elec_field = [1.,0.,0.]\n",
    "QPkrange = [1,50,25,80]\n",
    "NGsBlkXd = 30 # (RL) G size of the response function\n",
    "BndsRnXd = [1,100] # Polarization function bands\n",
    "damping = [[0.05,0.05],[0.03,0.03],[0.01,0.01]] # eV\n",
    "scissor = 0.261\n",
    "\n",
    "study = D.Dataset(num_tasks=1,verbose=True)\n",
    "study.set_postprocessing_function(PP.yambo_parse_data)\n",
    "\n",
    "inp = I.YamboInput('yambo -l',folder=run_dir)\n",
    "inp.set_array_variables(KfnQP_E=[scissor,1.,1.])\n",
    "inp.set_scalar_variables(SE_ROLEs='q.qp.b',SE_CPU='2.2.16') # for 2 nodes on ismhpc (with 32 mpi and 1 omp per node)\n",
    "inp.set_scalar_variables(X_and_IO_ROLEs='q.g.k.c.v',X_and_IO_CPU='1.1.1.%s.%s'%(ntasks_c,ntasks_v))\n",
    "inp.set_array_variables(units=NGsBlkXd_units,NGsBlkXd=NGsBlkXd)\n",
    "inp.set_array_variables(BndsRnXd=BndsRnXd,LongDrXd=elec_field,QPkrange=QPkrange)\n",
    "for damp in damping:\n",
    "    inp.set_array_variables(units='eV',DmRngeXd=damp)\n",
    "    idd = 'lifetimes-ngsblkxd_%s-bndsrnxd_%s-damping_%s'%(NGsBlkXd,BndsRnXd[1],damp[0])\n",
    "    study.append_run(id=idd,input=inp,runner=code,run_dir=run_dir)"
   ]
  },
  {
   "cell_type": "code",
   "execution_count": 66,
   "metadata": {},
   "outputs": [
    {
     "name": "stdout",
     "output_type": "stream",
     "text": [
      "Run the selection [0, 1, 2] with the parallel task_groups [[0], [1], [2]] \n",
      "\n",
      "Run the task [0] \n",
      "Skip the run of lifetimes-ngsblkxd_30-bndsrnxd_100-damping_0.05\n",
      "Task [0] ended \n",
      " \n",
      "Run the task [1] \n",
      "Skip the run of lifetimes-ngsblkxd_30-bndsrnxd_100-damping_0.03\n",
      "Task [1] ended \n",
      " \n",
      "Run the task [2] \n",
      "Skip the run of lifetimes-ngsblkxd_30-bndsrnxd_100-damping_0.01\n",
      "Task [2] ended \n",
      " \n"
     ]
    }
   ],
   "source": [
    "results = study.run()"
   ]
  },
  {
   "cell_type": "code",
   "execution_count": 67,
   "metadata": {},
   "outputs": [
    {
     "data": {
      "text/plain": [
       "<matplotlib.legend.Legend at 0x7f3fc2930588>"
      ]
     },
     "execution_count": 67,
     "metadata": {},
     "output_type": "execute_result"
    },
    {
     "data": {
      "image/png": "[encoded data removed]",
      "text/plain": [
       "<Figure size 720x576 with 1 Axes>"
      ]
     },
     "metadata": {
      "needs_background": "light"
     },
     "output_type": "display_data"
    }
   ],
   "source": [
    "fig, ax = plt.subplots(figsize=(10, 8))\n",
    "\n",
    "for ind,id in enumerate(study.ids):\n",
    "    data = results[ind].data['qp']\n",
    "    width_col = data['col4'] # meV\n",
    "    energy_col = data['col3']\n",
    "    plt.scatter(energy_col,width_col,label=id)\n",
    "plt.legend()"
   ]
  },
  {
   "cell_type": "markdown",
   "metadata": {},
   "source": [
    "We also compute the lifetimes in the 12x12x3 k-sampling"
   ]
  },
  {
   "cell_type": "code",
   "execution_count": 69,
   "metadata": {},
   "outputs": [
    {
     "data": {
      "text/plain": [
       "'EQ_ABS/12x12x3'"
      ]
     },
     "execution_count": 69,
     "metadata": {},
     "output_type": "execute_result"
    }
   ],
   "source": [
    "run_path = 'EQ_ABS'\n",
    "k = '12x12x3'\n",
    "run_dir = os.path.join(run_path,k)\n",
    "run_dir"
   ]
  },
  {
   "cell_type": "code",
   "execution_count": 70,
   "metadata": {},
   "outputs": [
    {
     "name": "stdout",
     "output_type": "stream",
     "text": [
      "SAVE folder EQ_ABS/12x12x3/SAVE already present. No operations performed.\n"
     ]
    }
   ],
   "source": [
    "input_dir = 'DFT_analysis/kpoints_%s-nbnds_100.save'%k\n",
    "Tools.init_yambo_dir(yambo_dir=run_dir,input_dir=input_dir)    "
   ]
  },
  {
   "cell_type": "code",
   "execution_count": 71,
   "metadata": {},
   "outputs": [
    {
     "name": "stdout",
     "output_type": "stream",
     "text": [
      "8 8\n",
      "Initialize a Dataset with 1 parallel tasks\n"
     ]
    }
   ],
   "source": [
    "ntasks_c = 8\n",
    "ntasks_v = int(ntasks/ntasks_c)\n",
    "print(ntasks_c,ntasks_v)\n",
    "\n",
    "NGsBlkXd_units = 'RL'\n",
    "elec_field = [1.,0.,0.]\n",
    "QPkrange = [1,50,25,80]\n",
    "NGsBlkXd = 30 # (RL) G size of the response function\n",
    "BndsRnXd = [1,100] # Polarization function bands\n",
    "damping = [0.03,0.03] # eV\n",
    "scissor = 0.261\n",
    "\n",
    "study = D.Dataset(num_tasks=1,verbose=True)\n",
    "study.set_postprocessing_function(PP.yambo_parse_data)\n",
    "\n",
    "inp = I.YamboInput('yambo -l',folder=run_dir)\n",
    "inp.set_array_variables(KfnQP_E=[scissor,1.,1.])\n",
    "inp.set_scalar_variables(SE_ROLEs='q.qp.b',SE_CPU='2.2.16') # for 2 nodes on ismhpc (with 32 mpi and 1 omp per node)\n",
    "inp.set_scalar_variables(X_and_IO_ROLEs='q.g.k.c.v',X_and_IO_CPU='1.1.1.%s.%s'%(ntasks_c,ntasks_v))\n",
    "inp.set_array_variables(units=NGsBlkXd_units,NGsBlkXd=NGsBlkXd)\n",
    "inp.set_array_variables(BndsRnXd=BndsRnXd,LongDrXd=elec_field,QPkrange=QPkrange)\n",
    "inp.set_array_variables(units='eV',DmRngeXd=damping)\n",
    "idd = 'lifetimes-ngsblkxd_%s-bndsrnxd_%s-damping_%s'%(NGsBlkXd,BndsRnXd[1],damping[0])\n",
    "study.append_run(id=idd,input=inp,runner=code,run_dir=run_dir)"
   ]
  },
  {
   "cell_type": "code",
   "execution_count": 74,
   "metadata": {},
   "outputs": [
    {
     "name": "stdout",
     "output_type": "stream",
     "text": [
      "Run the selection [0] with the parallel task_groups [[0]] \n",
      "\n",
      "Run the task [0] \n",
      "Skip the run of lifetimes-ngsblkxd_30-bndsrnxd_100-damping_0.03\n",
      "Task [0] ended \n",
      " \n"
     ]
    }
   ],
   "source": [
    "results = study.run()"
   ]
  },
  {
   "cell_type": "code",
   "execution_count": 75,
   "metadata": {},
   "outputs": [
    {
     "data": {
      "text/plain": [
       "<matplotlib.legend.Legend at 0x7f3fc2557ef0>"
      ]
     },
     "execution_count": 75,
     "metadata": {},
     "output_type": "execute_result"
    },
    {
     "data": {
      "image/png": "[encoded data removed]",
      "text/plain": [
       "<Figure size 720x576 with 1 Axes>"
      ]
     },
     "metadata": {
      "needs_background": "light"
     },
     "output_type": "display_data"
    }
   ],
   "source": [
    "fig, ax = plt.subplots(figsize=(10, 8))\n",
    "\n",
    "for ind,id in enumerate(study.ids):\n",
    "    data = results[ind].data['qp']\n",
    "    width_col = data['col4'] # meV\n",
    "    energy_col = data['col3']\n",
    "    plt.scatter(energy_col,width_col,label=id)\n",
    "plt.legend()"
   ]
  },
  {
   "cell_type": "markdown",
   "metadata": {},
   "source": [
    "## EQ Analysis at the K point"
   ]
  },
  {
   "cell_type": "markdown",
   "metadata": {},
   "source": [
    "In order to compare with the photoemission experiment we restrict the analysis at the K point"
   ]
  },
  {
   "cell_type": "code",
   "execution_count": 4,
   "metadata": {},
   "outputs": [
    {
     "data": {
      "text/plain": [
       "'EQ_ABS/9x9x1'"
      ]
     },
     "execution_count": 4,
     "metadata": {},
     "output_type": "execute_result"
    }
   ],
   "source": [
    "run_path = 'EQ_ABS'\n",
    "k = '9x9x1'\n",
    "run_dir = os.path.join(run_path,k)\n",
    "run_dir"
   ]
  },
  {
   "cell_type": "code",
   "execution_count": 5,
   "metadata": {},
   "outputs": [
    {
     "name": "stdout",
     "output_type": "stream",
     "text": [
      "SAVE folder EQ_ABS/9x9x1/SAVE already present. No operations performed.\n"
     ]
    }
   ],
   "source": [
    "input_dir = 'DFT_analysis/kpoints_%s-nbnds_100.save'%k\n",
    "Tools.init_yambo_dir(yambo_dir=run_dir,input_dir=input_dir)    "
   ]
  },
  {
   "cell_type": "markdown",
   "metadata": {},
   "source": [
    "We need to perform a convergence analysis in the NGsBlkXs and in the BndsRnXd parameters"
   ]
  },
  {
   "cell_type": "code",
   "execution_count": 6,
   "metadata": {},
   "outputs": [
    {
     "name": "stdout",
     "output_type": "stream",
     "text": [
      "8 8\n",
      "Initialize a Dataset with 1 parallel tasks\n"
     ]
    }
   ],
   "source": [
    "ntasks_c = 8\n",
    "ntasks_v = int(ntasks/ntasks_c)\n",
    "print(ntasks_c,ntasks_v)\n",
    "\n",
    "NGsBlkXd_units = 'RL'\n",
    "elec_field = [1.,0.,0.]\n",
    "QPkrange = [12,12,40,60]\n",
    "NGsBlkXd = 30 # (RL) G size of the response function\n",
    "BndsRnXd = [1,100] # Polarization function bands\n",
    "damping = [0.03,0.03] # eV\n",
    "scissor = 0.261\n",
    "\n",
    "study = D.Dataset(num_tasks=1,verbose=True)\n",
    "study.set_postprocessing_function(PP.yambo_parse_data)\n",
    "\n",
    "inp = I.YamboInput('yambo -l',folder=run_dir)\n",
    "inp.set_array_variables(KfnQP_E=[scissor,1.,1.])\n",
    "inp.set_array_variables(units=NGsBlkXd_units,NGsBlkXd=NGsBlkXd)\n",
    "inp.set_array_variables(BndsRnXd=BndsRnXd,LongDrXd=elec_field,QPkrange=QPkrange)\n",
    "inp.set_array_variables(units='eV',DmRngeXd=damping)\n",
    "inp.set_scalar_variables(SE_ROLEs='q.qp.b',SE_CPU='2.2.16') # for 2 nodes on ismhpc (with 32 mpi and 1 omp per node)\n",
    "inp.set_scalar_variables(X_and_IO_ROLEs='q.g.k.c.v',X_and_IO_CPU='1.1.1.%s.%s'%(ntasks_c,ntasks_v))\n",
    "idd = 'lifetimes-K-damping_%s'%(damping[0])\n",
    "study.append_run(id=idd,input=inp,runner=code,run_dir=run_dir)\n",
    "\n",
    "inp = I.YamboInput('yambo -r -l',folder=run_dir)\n",
    "inp.set_array_variables(KfnQP_E=[scissor,1.,1.])\n",
    "inp.set_array_variables(units=NGsBlkXd_units,NGsBlkXd=NGsBlkXd)\n",
    "inp.set_array_variables(BndsRnXd=BndsRnXd,LongDrXd=elec_field,QPkrange=QPkrange)\n",
    "inp.set_array_variables(units='eV',DmRngeXd=damping)\n",
    "inp.set_array_variables(units='RL',RandGvec=10)\n",
    "inp.set_array_variables(RandQpts=1000000)\n",
    "inp.set_scalar_variables(SE_ROLEs='q.qp.b',SE_CPU='2.2.16') # for 2 nodes on ismhpc (with 32 mpi and 1 omp per node)\n",
    "inp.set_scalar_variables(X_and_IO_ROLEs='q.g.k.c.v',X_and_IO_CPU='1.1.1.%s.%s'%(ntasks_c,ntasks_v))\n",
    "idd = 'lifetimes-K-rim-damping_%s'%(damping[0])\n",
    "study.append_run(id=idd,input=inp,runner=code,run_dir=run_dir)\n",
    "\n",
    "damping = [0.005,0.005] # eV\n",
    "\n",
    "inp = I.YamboInput('yambo -l',folder=run_dir)\n",
    "inp.set_array_variables(KfnQP_E=[scissor,1.,1.])\n",
    "inp.set_array_variables(units=NGsBlkXd_units,NGsBlkXd=NGsBlkXd)\n",
    "inp.set_array_variables(BndsRnXd=BndsRnXd,LongDrXd=elec_field,QPkrange=QPkrange)\n",
    "inp.set_array_variables(units='eV',DmRngeXd=damping)\n",
    "inp.set_scalar_variables(SE_ROLEs='q.qp.b',SE_CPU='2.2.16') # for 2 nodes on ismhpc (with 32 mpi and 1 omp per node)\n",
    "inp.set_scalar_variables(X_and_IO_ROLEs='q.g.k.c.v',X_and_IO_CPU='1.1.1.%s.%s'%(ntasks_c,ntasks_v))\n",
    "idd = 'lifetimes-K-damping_%s'%(damping[0])\n",
    "study.append_run(id=idd,input=inp,runner=code,run_dir=run_dir)"
   ]
  },
  {
   "cell_type": "code",
   "execution_count": 7,
   "metadata": {},
   "outputs": [
    {
     "data": {
      "text/plain": [
       "{'label': 'Dataset',\n",
       " 'run_dir': 'EQ_ABS/9x9x1',\n",
       " 'num_tasks': 1,\n",
       " 'verbose': True,\n",
       " 'input': {'args': 'yambo -l',\n",
       "  'folder': 'EQ_ABS/9x9x1',\n",
       "  'filename': 'yambo.in',\n",
       "  'arguments': ['em1d', 'life'],\n",
       "  'variables': {'DIP_Threads': [0.0, ''],\n",
       "   'X_Threads': [0.0, ''],\n",
       "   'SE_Threads': [0.0, ''],\n",
       "   'LifeTrCG': [100.0, ''],\n",
       "   'NGsBlkXd': [30, 'RL'],\n",
       "   'Chimod': 'HARTREE',\n",
       "   'BndsRnXd': [[1, 100], ''],\n",
       "   'DmRngeXd': [[0.005, 0.005], 'eV'],\n",
       "   'LongDrXd': [[1.0, 0.0, 0.0], ''],\n",
       "   'QPkrange': [[12, 12, 40, 60], ''],\n",
       "   'KfnQP_E': [[0.261, 1.0, 1.0], ''],\n",
       "   'SE_ROLEs': 'q.qp.b',\n",
       "   'SE_CPU': '2.2.16',\n",
       "   'X_and_IO_ROLEs': 'q.g.k.c.v',\n",
       "   'X_and_IO_CPU': '1.1.1.8.8'}},\n",
       " 'name': 'lifetimes-K-damping_0.005'}"
      ]
     },
     "execution_count": 7,
     "metadata": {},
     "output_type": "execute_result"
    }
   ],
   "source": [
    "study.runs[2]"
   ]
  },
  {
   "cell_type": "code",
   "execution_count": 8,
   "metadata": {},
   "outputs": [
    {
     "name": "stdout",
     "output_type": "stream",
     "text": [
      "Run the selection [0, 1, 2] with the parallel task_groups [[0], [1], [2]] \n",
      "\n",
      "Run the task [0] \n",
      "Skip the run of lifetimes-K-damping_0.03\n",
      "Task [0] ended \n",
      " \n",
      "Run the task [1] \n",
      "Skip the run of lifetimes-K-rim-damping_0.03\n",
      "Task [1] ended \n",
      " \n",
      "Run the task [2] \n",
      "Skip the run of lifetimes-K-damping_0.005\n",
      "Task [2] ended \n",
      " \n"
     ]
    }
   ],
   "source": [
    "results = study.run()"
   ]
  },
  {
   "cell_type": "code",
   "execution_count": 9,
   "metadata": {},
   "outputs": [
    {
     "data": {
      "text/plain": [
       "<matplotlib.legend.Legend at 0x7f52a491fb00>"
      ]
     },
     "execution_count": 9,
     "metadata": {},
     "output_type": "execute_result"
    },
    {
     "data": {
      "image/png": "[encoded data removed]",
      "text/plain": [
       "<Figure size 720x576 with 1 Axes>"
      ]
     },
     "metadata": {
      "needs_background": "light"
     },
     "output_type": "display_data"
    }
   ],
   "source": [
    "fig, ax = plt.subplots(figsize=(10, 8))\n",
    "\n",
    "for ind,id in enumerate(study.ids):\n",
    "    data = results[ind].data['qp']\n",
    "    width_col = data['col4'] # meV\n",
    "    energy_col = data['col3']\n",
    "    plt.scatter(energy_col,width_col,label=id)\n",
    "plt.ylim(-5,5)\n",
    "plt.legend()"
   ]
  },
  {
   "cell_type": "markdown",
   "metadata": {},
   "source": [
    "Probably the numbers to be compared with the 2 gaussian models of the experimental analysis are given by the\n",
    "widths of the highest valence quasiparticles"
   ]
  },
  {
   "cell_type": "markdown",
   "metadata": {},
   "source": [
    "## EQ Analysis with el-ph coupling"
   ]
  },
  {
   "cell_type": "markdown",
   "metadata": {},
   "source": [
    "These computations are performed in the path already built and initialized by yambo_ph during the comptation\n",
    "of the sl-ph ndb."
   ]
  },
  {
   "cell_type": "code",
   "execution_count": 61,
   "metadata": {},
   "outputs": [],
   "source": [
    "run_dir = 'PHONON/yambo'"
   ]
  },
  {
   "cell_type": "code",
   "execution_count": 62,
   "metadata": {},
   "outputs": [
    {
     "name": "stdout",
     "output_type": "stream",
     "text": [
      "Initialize a Yambo calculator with scheduler slurm\n"
     ]
    },
    {
     "data": {
      "text/plain": [
       "{'scheduler': 'slurm',\n",
       " 'nodes': 1,\n",
       " 'ntasks_per_node': 32,\n",
       " 'cpus_per_task': 1,\n",
       " 'omp_num_threads': 1,\n",
       " 'gpus_per_node': None,\n",
       " 'memory': '125000',\n",
       " 'time': None,\n",
       " 'partition': 'all12h',\n",
       " 'account': None,\n",
       " 'qos': None,\n",
       " 'map_by': None,\n",
       " 'pe': 1,\n",
       " 'rank_by': None,\n",
       " 'pre_processing': '/home/dalessandro/module_script/yambo_module',\n",
       " 'executable': 'yambo_ph',\n",
       " 'skip': True,\n",
       " 'clean_restart': True,\n",
       " 'dry_run': False,\n",
       " 'wait_end_run': True,\n",
       " 'activate_BeeOND': True,\n",
       " 'verbose': True,\n",
       " 'fatlog': False}"
      ]
     },
     "execution_count": 62,
     "metadata": {},
     "output_type": "execute_result"
    }
   ],
   "source": [
    "# RunRules for ismhpc\n",
    "# The product of ntasks_per_node*cpus_per_task is equal to 32. \n",
    "# Many mpi are needed for better performances\n",
    "nodes = 1\n",
    "ntasks_per_node = 32 #16\n",
    "cpus_per_task = 1 #2\n",
    "omp_num_threads = 1 #2\n",
    "module = '/home/dalessandro/module_script/yambo_module'\n",
    "\n",
    "ntasks = nodes*ntasks_per_node\n",
    "\n",
    "rr = C.RunRules(scheduler='slurm',partition='all12h',\n",
    "                memory='125000',\n",
    "                nodes=nodes,ntasks_per_node=ntasks_per_node,\n",
    "                cpus_per_task=cpus_per_task,\n",
    "                omp_num_threads=omp_num_threads,pre_processing=module)\n",
    "code = C.YamboCalculator(rr,executable='yambo_ph',activate_BeeOND=True)\n",
    "code.global_options()"
   ]
  },
  {
   "cell_type": "code",
   "execution_count": 7,
   "metadata": {},
   "outputs": [
    {
     "name": "stdout",
     "output_type": "stream",
     "text": [
      "8 4\n",
      "Initialize a Dataset with 1 parallel tasks\n"
     ]
    }
   ],
   "source": [
    "ntasks_c = 8\n",
    "ntasks_v = int(ntasks/ntasks_c)\n",
    "print(ntasks_c,ntasks_v)\n",
    "\n",
    "NGsBlkXd_units = 'RL'\n",
    "elec_field = [1.,0.,0.]\n",
    "QPkrange = [12,12,40,60]\n",
    "NGsBlkXd = 30 # (RL) G size of the response function\n",
    "BndsRnXd = [1,70] # Polarization function bands\n",
    "damping = [0.03,0.03] # eV\n",
    "scissor = 0.261\n",
    "\n",
    "study = D.Dataset(num_tasks=1,verbose=True)\n",
    "study.set_postprocessing_function(PP.yambo_parse_data)\n",
    "\n",
    "inp = I.YamboInput('yambo_ph -g n -p fan -c ep -V All -J GKKP',folder=run_dir)\n",
    "inp.set_array_variables(units='Kn',BoseTemp=300)\n",
    "inp.set_array_variables(KfnQP_E=[scissor,1.,1.])\n",
    "inp.set_array_variables(units=NGsBlkXd_units,NGsBlkXd=NGsBlkXd)\n",
    "inp.set_array_variables(BndsRnXd=BndsRnXd,LongDrXd=elec_field,QPkrange=QPkrange)\n",
    "inp.set_array_variables(units='eV',DmRngeXd=damping)\n",
    "inp.set_scalar_variables(SE_ROLEs='q.qp.b',SE_CPU='1.2.16') # for 1 nodes on ismhpc (with 32 mpi and 1 omp per node)\n",
    "inp.set_scalar_variables(X_and_IO_ROLEs='q.g.k.c.v',X_and_IO_CPU='1.1.1.%s.%s'%(ntasks_c,ntasks_v))\n",
    "idd = 'lifetimes-K-phonon-damping_%s'%(damping[0])\n",
    "study.append_run(id=idd,input=inp,runner=code,run_dir=run_dir,jobname=[idd,'GKKP'])"
   ]
  },
  {
   "cell_type": "code",
   "execution_count": 13,
   "metadata": {},
   "outputs": [
    {
     "data": {
      "text/plain": [
       "{'label': 'Dataset',\n",
       " 'run_dir': 'PHONON/yambo',\n",
       " 'num_tasks': 1,\n",
       " 'verbose': True,\n",
       " 'input': {'args': 'yambo_ph -g n -p fan -c ep -V gen -J GKKP',\n",
       "  'folder': 'PHONON/yambo',\n",
       "  'filename': 'yambo.in',\n",
       "  'arguments': ['gw0', 'el_ph_corr'],\n",
       "  'variables': {'Nelectro': [52.0, ''],\n",
       "   'ElecTemp': [0.0, 'eV'],\n",
       "   'BoseTemp': [300, 'Kn'],\n",
       "   'OccTresh': [1e-05, ''],\n",
       "   'MEM_tresh': [51200.0, 'Kb'],\n",
       "   'SE_Threads': [0.0, ''],\n",
       "   'RandQpts': [0.0, ''],\n",
       "   'DysSolver': 'n',\n",
       "   'GphBRnge': [[1, 70], ''],\n",
       "   'ElPhModes': [[1, 18], ''],\n",
       "   'QPkrange': [[12, 12, 40, 60], ''],\n",
       "   'KfnQP_E': [[0.261, 1.0, 1.0], ''],\n",
       "   'NGsBlkXd': [30, 'RL'],\n",
       "   'BndsRnXd': [[1, 70], ''],\n",
       "   'LongDrXd': [[1.0, 0.0, 0.0], ''],\n",
       "   'DmRngeXd': [[0.03, 0.03], 'eV'],\n",
       "   'SE_ROLEs': 'q.qp.b',\n",
       "   'SE_CPU': '2.2.16',\n",
       "   'X_and_IO_ROLEs': 'q.g.k.c.v',\n",
       "   'X_and_IO_CPU': '1.1.1.8.8'}},\n",
       " 'jobname': ['lifetimes-K-phonon-damping_0.03', 'GKKP'],\n",
       " 'name': 'lifetimes-K-phonon-damping_0.03'}"
      ]
     },
     "execution_count": 13,
     "metadata": {},
     "output_type": "execute_result"
    }
   ],
   "source": [
    "study.runs[0]"
   ]
  },
  {
   "cell_type": "code",
   "execution_count": 14,
   "metadata": {},
   "outputs": [
    {
     "name": "stdout",
     "output_type": "stream",
     "text": [
      "Run the selection [0] with the parallel task_groups [[0]] \n",
      "\n",
      "Run the task [0] \n",
      "Skip the run of lifetimes-K-phonon-damping_0.03\n",
      "Task [0] ended \n",
      " \n"
     ]
    }
   ],
   "source": [
    "results = study.run()"
   ]
  },
  {
   "cell_type": "code",
   "execution_count": 33,
   "metadata": {},
   "outputs": [
    {
     "name": "stdout",
     "output_type": "stream",
     "text": [
      "Parse file PHONON/yambo/lifetimes-K-phonon-damping_0.03/o-lifetimes-K-phonon-damping_0.03.qp\n",
      "Parse file EQ_ABS/9x9x1/lifetimes-K-damping_0.03/o-lifetimes-K-damping_0.03.qp\n"
     ]
    }
   ],
   "source": [
    "data_ph = P.YamboOutputParser.from_file('PHONON/yambo/lifetimes-K-phonon-damping_0.03/o-lifetimes-K-phonon-damping_0.03.qp',\n",
    "        extendOut=False)['qp']\n",
    "data = P.YamboOutputParser.from_file('EQ_ABS/9x9x1/lifetimes-K-damping_0.03/o-lifetimes-K-damping_0.03.qp',\n",
    "        extendOut=False)['qp']\n",
    "eng_ph,eng = data_ph['col3'],data['E0']\n",
    "width_ph,width = data_ph['col6'],data['EmE0']"
   ]
  },
  {
   "cell_type": "code",
   "execution_count": 37,
   "metadata": {},
   "outputs": [
    {
     "data": {
      "text/plain": [
       "<matplotlib.legend.Legend at 0x7f5290ceac50>"
      ]
     },
     "execution_count": 37,
     "metadata": {},
     "output_type": "execute_result"
    },
    {
     "data": {
      "image/png": "[encoded data removed]",
      "text/plain": [
       "<Figure size 720x576 with 1 Axes>"
      ]
     },
     "metadata": {
      "needs_background": "light"
     },
     "output_type": "display_data"
    }
   ],
   "source": [
    "fig, ax = plt.subplots(figsize=(10, 8))\n",
    "plt.scatter(eng,width,label='el-el')\n",
    "plt.scatter(eng_ph,width_ph,label='el-ph')\n",
    "#plt.ylim(-5,5)\n",
    "plt.legend()"
   ]
  },
  {
   "cell_type": "markdown",
   "metadata": {},
   "source": [
    "## NEQ Analysis with el-ph coupling"
   ]
  },
  {
   "cell_type": "markdown",
   "metadata": {},
   "source": [
    "We compute the lifetimes at the K point including the el-ph coupling and using the NEQ occupations computed with yambo_rt."
   ]
  },
  {
   "cell_type": "markdown",
   "metadata": {},
   "source": [
    "The analysis is performed using the new coding made in the devel-maintenance branch. The analysis is based on the usage\n",
    "of yambo_rt"
   ]
  },
  {
   "cell_type": "code",
   "execution_count": 63,
   "metadata": {},
   "outputs": [],
   "source": [
    "run_dir = 'PHONON/yambo'"
   ]
  },
  {
   "cell_type": "code",
   "execution_count": 64,
   "metadata": {},
   "outputs": [
    {
     "name": "stdout",
     "output_type": "stream",
     "text": [
      "Initialize a Yambo calculator with scheduler slurm\n"
     ]
    },
    {
     "data": {
      "text/plain": [
       "{'scheduler': 'slurm',\n",
       " 'nodes': 1,\n",
       " 'ntasks_per_node': 32,\n",
       " 'cpus_per_task': 1,\n",
       " 'omp_num_threads': 1,\n",
       " 'gpus_per_node': None,\n",
       " 'memory': '125000',\n",
       " 'time': None,\n",
       " 'partition': 'all12h',\n",
       " 'account': None,\n",
       " 'qos': None,\n",
       " 'map_by': None,\n",
       " 'pe': 1,\n",
       " 'rank_by': None,\n",
       " 'pre_processing': '/home/dalessandro/module_script/yambo_module',\n",
       " 'executable': 'yambo_rt',\n",
       " 'skip': True,\n",
       " 'clean_restart': True,\n",
       " 'dry_run': False,\n",
       " 'wait_end_run': True,\n",
       " 'activate_BeeOND': True,\n",
       " 'verbose': True,\n",
       " 'fatlog': False}"
      ]
     },
     "execution_count": 64,
     "metadata": {},
     "output_type": "execute_result"
    }
   ],
   "source": [
    "# RunRules for ismhpc\n",
    "# The product of ntasks_per_node*cpus_per_task is equal to 32. \n",
    "# Many mpi are needed for better performances\n",
    "nodes = 1\n",
    "ntasks_per_node = 32 #16\n",
    "cpus_per_task = 1 #2\n",
    "omp_num_threads = 1 #2\n",
    "module = '/home/dalessandro/module_script/yambo_module'\n",
    "\n",
    "ntasks = nodes*ntasks_per_node\n",
    "\n",
    "rr = C.RunRules(scheduler='slurm',partition='all12h',\n",
    "                memory='125000',\n",
    "                nodes=nodes,ntasks_per_node=ntasks_per_node,\n",
    "                cpus_per_task=cpus_per_task,\n",
    "                omp_num_threads=omp_num_threads,pre_processing=module)\n",
    "code = C.YamboCalculator(rr,executable='yambo_rt',activate_BeeOND=True)\n",
    "code.global_options()"
   ]
  },
  {
   "cell_type": "code",
   "execution_count": 65,
   "metadata": {},
   "outputs": [
    {
     "name": "stdout",
     "output_type": "stream",
     "text": [
      "8 4\n",
      "Initialize a Dataset with 1 parallel tasks\n"
     ]
    }
   ],
   "source": [
    "ntasks_c = 8\n",
    "ntasks_v = int(ntasks/ntasks_c)\n",
    "print(ntasks_c,ntasks_v)\n",
    "times = [0,50,100,150,200,250,300]\n",
    "\n",
    "f_int = '1e12'\n",
    "\n",
    "damping = [0.03,0.03] # eV\n",
    "#scissor = 1. # 0.261\n",
    "QPkrange = [12,12,40,60]\n",
    "\n",
    "study = D.Dataset(num_tasks=1,verbose=True)\n",
    "study.set_postprocessing_function(PP.yambo_parse_data)\n",
    "\n",
    "inp = I.YamboInput('yambo_rt -r -gw0 fan -V All -J GKKP',folder=run_dir)\n",
    "inp.set_array_variables(units='Kn',BoseTemp=300)\n",
    "#inp.set_array_variables(KfnQP_E=[scissor,1.,1.])\n",
    "inp.set_array_variables(QPkrange=QPkrange)\n",
    "inp.set_array_variables(units='eV',DmRngeXd=damping)\n",
    "inp.set_array_variables(units='RL',RandGvec=10)\n",
    "inp.set_array_variables(RandQpts=1000000)\n",
    "inp.set_scalar_variables(SE_ROLEs='q.qp.b',SE_CPU='1.2.16') # for 1 nodes on ismhpc (with 32 mpi and 1 omp per node)\n",
    "inp.set_scalar_variables(X_and_IO_ROLEs='q.g.k.c.v',X_and_IO_CPU='1.1.1.%s.%s'%(ntasks_c,ntasks_v))\n",
    "\n",
    "for t in times:\n",
    "    inp.set_scalar_variables(GfnRTdb='f @ %s fs < RT_carriers/%s.RT_carriers'%(t,f_int))\n",
    "    idd = 'lifetimes-K-elph-neq-damping_%s-time_%s-rim'%(damping[0],t)\n",
    "    study.append_run(id=idd,input=inp,runner=code,run_dir=run_dir,jobname=[idd,'GKKP'])"
   ]
  },
  {
   "cell_type": "code",
   "execution_count": 67,
   "metadata": {},
   "outputs": [],
   "source": [
    "#study.runs[2]"
   ]
  },
  {
   "cell_type": "code",
   "execution_count": 68,
   "metadata": {},
   "outputs": [
    {
     "name": "stdout",
     "output_type": "stream",
     "text": [
      "Run the selection [0, 1, 2, 3, 4, 5, 6] with the parallel task_groups [[0], [1], [2], [3], [4], [5], [6]] \n",
      "\n",
      "Run the task [0] \n",
      "run command: mpirun -np 32 yambo_rt -F lifetimes-K-elph-neq-damping_0.03-time_0-rim.in -J \"lifetimes-K-elph-neq-damping_0.03-time_0-rim,GKKP\" -C lifetimes-K-elph-neq-damping_0.03-time_0-rim\n",
      "slurm submit:  cd PHONON/yambo ; sbatch job_lifetimes-K-elph-neq-damping_0.03-time_0-rim.sh\n",
      "computation lifetimes-K-elph-neq-damping_0.03-time_0-rim is running...\n",
      "computation lifetimes-K-elph-neq-damping_0.03-time_0-rim ended\n",
      "Run performed in 15s\n",
      "Task [0] ended \n",
      " \n",
      "Run the task [1] \n",
      "run command: mpirun -np 32 yambo_rt -F lifetimes-K-elph-neq-damping_0.03-time_50-rim.in -J \"lifetimes-K-elph-neq-damping_0.03-time_50-rim,GKKP\" -C lifetimes-K-elph-neq-damping_0.03-time_50-rim\n",
      "slurm submit:  cd PHONON/yambo ; sbatch job_lifetimes-K-elph-neq-damping_0.03-time_50-rim.sh\n",
      "computation lifetimes-K-elph-neq-damping_0.03-time_50-rim is running...\n",
      "computation lifetimes-K-elph-neq-damping_0.03-time_50-rim ended\n",
      "Run performed in 14s\n",
      "Task [1] ended \n",
      " \n",
      "Run the task [2] \n",
      "run command: mpirun -np 32 yambo_rt -F lifetimes-K-elph-neq-damping_0.03-time_100-rim.in -J \"lifetimes-K-elph-neq-damping_0.03-time_100-rim,GKKP\" -C lifetimes-K-elph-neq-damping_0.03-time_100-rim\n",
      "slurm submit:  cd PHONON/yambo ; sbatch job_lifetimes-K-elph-neq-damping_0.03-time_100-rim.sh\n",
      "computation lifetimes-K-elph-neq-damping_0.03-time_100-rim is running...\n",
      "computation lifetimes-K-elph-neq-damping_0.03-time_100-rim ended\n",
      "Run performed in 15s\n",
      "Task [2] ended \n",
      " \n",
      "Run the task [3] \n",
      "run command: mpirun -np 32 yambo_rt -F lifetimes-K-elph-neq-damping_0.03-time_150-rim.in -J \"lifetimes-K-elph-neq-damping_0.03-time_150-rim,GKKP\" -C lifetimes-K-elph-neq-damping_0.03-time_150-rim\n",
      "slurm submit:  cd PHONON/yambo ; sbatch job_lifetimes-K-elph-neq-damping_0.03-time_150-rim.sh\n",
      "computation lifetimes-K-elph-neq-damping_0.03-time_150-rim is running...\n",
      "computation lifetimes-K-elph-neq-damping_0.03-time_150-rim ended\n",
      "Run performed in 15s\n",
      "Task [3] ended \n",
      " \n",
      "Run the task [4] \n",
      "run command: mpirun -np 32 yambo_rt -F lifetimes-K-elph-neq-damping_0.03-time_200-rim.in -J \"lifetimes-K-elph-neq-damping_0.03-time_200-rim,GKKP\" -C lifetimes-K-elph-neq-damping_0.03-time_200-rim\n",
      "slurm submit:  cd PHONON/yambo ; sbatch job_lifetimes-K-elph-neq-damping_0.03-time_200-rim.sh\n",
      "computation lifetimes-K-elph-neq-damping_0.03-time_200-rim is running...\n",
      "computation lifetimes-K-elph-neq-damping_0.03-time_200-rim ended\n",
      "Run performed in 15s\n",
      "Task [4] ended \n",
      " \n",
      "Run the task [5] \n",
      "run command: mpirun -np 32 yambo_rt -F lifetimes-K-elph-neq-damping_0.03-time_250-rim.in -J \"lifetimes-K-elph-neq-damping_0.03-time_250-rim,GKKP\" -C lifetimes-K-elph-neq-damping_0.03-time_250-rim\n",
      "slurm submit:  cd PHONON/yambo ; sbatch job_lifetimes-K-elph-neq-damping_0.03-time_250-rim.sh\n",
      "computation lifetimes-K-elph-neq-damping_0.03-time_250-rim is running...\n",
      "computation lifetimes-K-elph-neq-damping_0.03-time_250-rim ended\n",
      "Run performed in 15s\n",
      "Task [5] ended \n",
      " \n",
      "Run the task [6] \n",
      "run command: mpirun -np 32 yambo_rt -F lifetimes-K-elph-neq-damping_0.03-time_300-rim.in -J \"lifetimes-K-elph-neq-damping_0.03-time_300-rim,GKKP\" -C lifetimes-K-elph-neq-damping_0.03-time_300-rim\n",
      "slurm submit:  cd PHONON/yambo ; sbatch job_lifetimes-K-elph-neq-damping_0.03-time_300-rim.sh\n",
      "computation lifetimes-K-elph-neq-damping_0.03-time_300-rim is running...\n",
      "computation lifetimes-K-elph-neq-damping_0.03-time_300-rim ended\n",
      "Run performed in 14s\n",
      "Task [6] ended \n",
      " \n"
     ]
    }
   ],
   "source": [
    "results = study.run()"
   ]
  },
  {
   "cell_type": "code",
   "execution_count": 69,
   "metadata": {},
   "outputs": [
    {
     "data": {
      "text/plain": [
       "[2.847434, 2.847434, 2.847434, 2.847434, 2.847434, 2.847435, 2.847434]"
      ]
     },
     "execution_count": 69,
     "metadata": {},
     "output_type": "execute_result"
    }
   ],
   "source": [
    "width = []\n",
    "for ind,t in enumerate(times):\n",
    "    width.append(results[ind].data['qp']['col6'][11])\n",
    "width"
   ]
  },
  {
   "cell_type": "code",
   "execution_count": 70,
   "metadata": {},
   "outputs": [
    {
     "data": {
      "text/plain": [
       "([0, 50, 100, 150, 200, 250, 300],\n",
       " [2.847434, 2.847434, 2.847434, 2.847434, 2.847434, 2.847435, 2.847434])"
      ]
     },
     "execution_count": 70,
     "metadata": {},
     "output_type": "execute_result"
    }
   ],
   "source": [
    "times,width"
   ]
  },
  {
   "cell_type": "code",
   "execution_count": 71,
   "metadata": {},
   "outputs": [
    {
     "data": {
      "text/plain": [
       "<matplotlib.collections.PathCollection at 0x7f8328289160>"
      ]
     },
     "execution_count": 71,
     "metadata": {},
     "output_type": "execute_result"
    },
    {
     "data": {
      "image/png": "[encoded data removed]",
      "text/plain": [
       "<Figure size 720x576 with 1 Axes>"
      ]
     },
     "metadata": {
      "needs_background": "light"
     },
     "output_type": "display_data"
    }
   ],
   "source": [
    "fig, ax = plt.subplots(figsize=(10, 8))\n",
    "plt.scatter(times,width)"
   ]
  },
  {
   "cell_type": "markdown",
   "metadata": {},
   "source": [
    "https://github.com/yambo-code/yambo-tests/blob/develop/TESTS/MAIN/Si_bulk/RT/INPUTS/02_carriers_Fermi_DB\n",
    "\n"
   ]
  },
  {
   "cell_type": "markdown",
   "metadata": {},
   "source": [
    "### Generation of a RT_carriers ndb with ypp"
   ]
  },
  {
   "cell_type": "markdown",
   "metadata": {},
   "source": [
    "We build a the RT_carriers ndb using the tool of ypp. In this way we can fastly check which distribution\n",
    "of carriers is needed in order to see some non negligible effect on the linewidth."
   ]
  },
  {
   "cell_type": "code",
   "execution_count": 120,
   "metadata": {},
   "outputs": [],
   "source": [
    "run_dir = 'PHONON/yambo'"
   ]
  },
  {
   "cell_type": "code",
   "execution_count": 121,
   "metadata": {},
   "outputs": [
    {
     "name": "stdout",
     "output_type": "stream",
     "text": [
      "Initialize a Yambo calculator with scheduler slurm\n"
     ]
    }
   ],
   "source": [
    "# RunRules for ismhpc\n",
    "# The product of ntasks_per_node*cpus_per_task is equal to 32. \n",
    "# Many mpi are needed for better performances\n",
    "nodes = 1\n",
    "ntasks_per_node = 32 #16\n",
    "cpus_per_task = 1 #2\n",
    "omp_num_threads = 1 #2\n",
    "module = '/home/dalessandro/module_script/yambo_module'\n",
    "\n",
    "ntasks = nodes*ntasks_per_node\n",
    "\n",
    "rr = C.RunRules(scheduler='slurm',partition='all12h',\n",
    "                memory='125000',\n",
    "                nodes=nodes,ntasks_per_node=ntasks_per_node,\n",
    "                cpus_per_task=cpus_per_task,\n",
    "                omp_num_threads=omp_num_threads,pre_processing=module)\n",
    "code = C.YamboCalculator(rr,executable='ypp_rt',activate_BeeOND=True)\n",
    "#code.global_options()"
   ]
  },
  {
   "cell_type": "code",
   "execution_count": 143,
   "metadata": {},
   "outputs": [
    {
     "name": "stdout",
     "output_type": "stream",
     "text": [
      "Initialize a Dataset with 1 parallel tasks\n"
     ]
    }
   ],
   "source": [
    "RTBands = [49,54]  \n",
    "Temp = 300 # K\n",
    "T_ev = np.round(Temp*U.Constants.Boltzmann,3)\n",
    "RTpumpNel =  1. #[0.,1.,2.]\n",
    "RTpumpEhEn = [-0.118,1.21] # eV\n",
    "RTtempEh = [T_ev,T_ev]\n",
    "\n",
    "study = D.Dataset(num_tasks=1,verbose=True)\n",
    "#study.set_postprocessing_function(PP.yambo_parse_data)\n",
    "\n",
    "inp = I.YamboInput('ypp_rt -rtdb f',folder=run_dir)\n",
    "inp.set_array_variables(RTBands=RTBands)\n",
    "inp.set_array_variables(units='K',ElecTemp=Temp)\n",
    "inp.set_array_variables(units='eV',RTtempEh=RTtempEh)\n",
    "\n",
    "#for rtpump in RTpumpNel:\n",
    "#    inp.set_array_variables(RTpumpNel=rtpump)\n",
    "#    idd = 'ypp-carriers-rtpumpnel=%s'%rtpump\n",
    "#    study.append_run(id=idd,input=inp,runner=code,run_dir=run_dir,skip=False)\n",
    "\n",
    "inp.set_array_variables(RTpumpuNel=RTpumpNel)\n",
    "inp.set_array_variables(units='eV',RTpumpEhEn=RTpumpEhEn)\n",
    "idd = 'ypp-carriers-rtpumpehen_%s_%s-rtpumpnel=%s'%(RTpumpEhEn[0],RTpumpEhEn[1],RTpumpNel)\n",
    "study.append_run(id=idd,input=inp,runner=code,run_dir=run_dir,skip=False)"
   ]
  },
  {
   "cell_type": "code",
   "execution_count": 138,
   "metadata": {},
   "outputs": [
    {
     "data": {
      "text/plain": [
       "{'label': 'Dataset',\n",
       " 'run_dir': 'PHONON/yambo',\n",
       " 'num_tasks': 1,\n",
       " 'verbose': True,\n",
       " 'input': {'args': 'ypp_rt -rtdb f',\n",
       "  'folder': 'PHONON/yambo',\n",
       "  'filename': 'yambo.in',\n",
       "  'arguments': ['RTDBs'],\n",
       "  'variables': {'RTpumpNel': [1.0, ''],\n",
       "   'RTpumpBZWd': [0.1, ''],\n",
       "   'RTautotuneThr': [0.0, ''],\n",
       "   'cooIn': 'rlu',\n",
       "   'RTBands': [[49, 54], ''],\n",
       "   'RTtempEh': [[0.026, 0.026], 'eV'],\n",
       "   'ElecTemp': [300, 'K'],\n",
       "   'RTpumpuNel': [1.0, ''],\n",
       "   'RTpumpEhEn': [[-0.118, 1.21], 'eV']}},\n",
       " 'skip': False,\n",
       " 'name': 'ypp-carriers-rtpumpehen_-0.118_1.21-rtpumpnel=1.0'}"
      ]
     },
     "execution_count": 138,
     "metadata": {},
     "output_type": "execute_result"
    }
   ],
   "source": [
    "study.runs[0]"
   ]
  },
  {
   "cell_type": "code",
   "execution_count": 139,
   "metadata": {},
   "outputs": [
    {
     "name": "stdout",
     "output_type": "stream",
     "text": [
      "Run the selection [0] with the parallel task_groups [[0]] \n",
      "\n",
      "Run the task [0] \n",
      "run command: mpirun -np 32 yambo_rt -F ypp-carriers-rtpumpehen_-0.118_1.21-rtpumpnel=1.0.in -J ypp-carriers-rtpumpehen_-0.118_1.21-rtpumpnel=1.0 -C ypp-carriers-rtpumpehen_-0.118_1.21-rtpumpnel=1.0\n",
      "slurm submit:  cd PHONON/yambo ; sbatch job_ypp-carriers-rtpumpehen_-0.118_1.21-rtpumpnel=1.0.sh\n",
      "computation ypp-carriers-rtpumpehen_-0.118_1.21-rtpumpnel=1.0 is running...\n",
      "computation ypp-carriers-rtpumpehen_-0.118_1.21-rtpumpnel=1.0 ended\n",
      "\n",
      "        There are no o-* files.\n",
      "        Maybe you have performed a computation that does not create any output file or wait_end_run\n",
      "        and/or the dry_run option are active.\n",
      "        Otherwise a possible error has occured during the computation\n",
      "        \n",
      "Run performed in 02s\n",
      "Task [0] ended \n",
      " \n"
     ]
    }
   ],
   "source": [
    "results = study.run()"
   ]
  },
  {
   "cell_type": "code",
   "execution_count": 140,
   "metadata": {},
   "outputs": [
    {
     "name": "stdout",
     "output_type": "stream",
     "text": [
      "Initialize a Yambo calculator with scheduler slurm\n"
     ]
    }
   ],
   "source": [
    "# RunRules for ismhpc\n",
    "# The product of ntasks_per_node*cpus_per_task is equal to 32. \n",
    "# Many mpi are needed for better performances\n",
    "nodes = 1\n",
    "ntasks_per_node = 32 #16\n",
    "cpus_per_task = 1 #2\n",
    "omp_num_threads = 1 #2\n",
    "module = '/home/dalessandro/module_script/yambo_module'\n",
    "\n",
    "ntasks = nodes*ntasks_per_node\n",
    "\n",
    "rr = C.RunRules(scheduler='slurm',partition='all12h',\n",
    "                memory='125000',\n",
    "                nodes=nodes,ntasks_per_node=ntasks_per_node,\n",
    "                cpus_per_task=cpus_per_task,\n",
    "                omp_num_threads=omp_num_threads,pre_processing=module)\n",
    "code = C.YamboCalculator(rr,executable='yambo_rt',activate_BeeOND=True)\n",
    "#code.global_options()"
   ]
  },
  {
   "cell_type": "code",
   "execution_count": 144,
   "metadata": {},
   "outputs": [
    {
     "name": "stdout",
     "output_type": "stream",
     "text": [
      "8 4\n",
      "Initialize a Dataset with 1 parallel tasks\n"
     ]
    }
   ],
   "source": [
    "ntasks_c = 8\n",
    "ntasks_v = int(ntasks/ntasks_c)\n",
    "print(ntasks_c,ntasks_v)\n",
    "\n",
    "damping = [0.03,0.03] # eV\n",
    "#scissor = 1. # 0.261\n",
    "QPkrange = [12,12,40,60]\n",
    "\n",
    "study = D.Dataset(num_tasks=1,verbose=True)\n",
    "study.set_postprocessing_function(PP.yambo_parse_data)\n",
    "\n",
    "inp = I.YamboInput('yambo_rt -r -gw0 fan -V All -J GKKP',folder=run_dir)\n",
    "inp.set_array_variables(units='Kn',BoseTemp=300)\n",
    "#inp.set_array_variables(KfnQP_E=[scissor,1.,1.])\n",
    "inp.set_array_variables(QPkrange=QPkrange)\n",
    "inp.set_array_variables(units='eV',DmRngeXd=damping)\n",
    "inp.set_array_variables(units='RL',RandGvec=10)\n",
    "inp.set_array_variables(RandQpts=1000000)\n",
    "inp.set_scalar_variables(SE_ROLEs='q.qp.b',SE_CPU='1.2.16') # for 1 nodes on ismhpc (with 32 mpi and 1 omp per node)\n",
    "inp.set_scalar_variables(X_and_IO_ROLEs='q.g.k.c.v',X_and_IO_CPU='1.1.1.%s.%s'%(ntasks_c,ntasks_v))\n",
    "\n",
    "#for rtpump in RTpumpNel:\n",
    "#    inp.set_scalar_variables(GfnRTdb='f @ 0.0 fs < ypp-carriers-rtpumpnel=%s/ndb.RT_carriers'%rtpump)\n",
    "#    idd = 'lifetimes-K-phonon-neq-ypp-carriers-rtpumpnel_%s'%rtpump\n",
    "#    study.append_run(id=idd,input=inp,runner=code,run_dir=run_dir,jobname=[idd,'GKKP'],skip=False)\n",
    "\n",
    "inp.set_scalar_variables(GfnRTdb='f @ 0.0 fs < ypp-carriers-rtpumpehen_-0.118_1.21-rtpumpnel=1.0/ndb.RT_carriers')\n",
    "idd = 'lifetimes-K-phonon-neq-ypp-carriers-rtpumpehen_%s_%s-rtpumpnel=%s'%(RTpumpEhEn[0],RTpumpEhEn[1],RTpumpNel)\n",
    "study.append_run(id=idd,input=inp,runner=code,run_dir=run_dir,jobname=[idd,'GKKP'],skip=False)"
   ]
  },
  {
   "cell_type": "code",
   "execution_count": 145,
   "metadata": {},
   "outputs": [
    {
     "data": {
      "text/plain": [
       "{'label': 'Dataset',\n",
       " 'run_dir': 'PHONON/yambo',\n",
       " 'num_tasks': 1,\n",
       " 'verbose': True,\n",
       " 'input': {'args': 'yambo_rt -r -gw0 fan -V All -J GKKP',\n",
       "  'folder': 'PHONON/yambo',\n",
       "  'filename': 'yambo.in',\n",
       "  'arguments': ['rim_cut', 'gw0', 'gkkp', 'el_ph_corr'],\n",
       "  'variables': {'StdoHash': [40.0, ''],\n",
       "   'Nelectro': [52.0, ''],\n",
       "   'ElecTemp': [0.0, 'eV'],\n",
       "   'BoseTemp': [300, 'Kn'],\n",
       "   'OccTresh': [1e-05, ''],\n",
       "   'NLogCPUs': [0.0, ''],\n",
       "   'MEM_tresh': [51200.0, 'Kb'],\n",
       "   'FFTGvecs': [6269.0, 'RL'],\n",
       "   'SE_Threads': [0.0, ''],\n",
       "   'RandQpts': [1000000, ''],\n",
       "   'RandGvec': [10, 'RL'],\n",
       "   'IDEm1Ref': [0.0, ''],\n",
       "   'CUTRadius': [0.0, ''],\n",
       "   'CUTCylLen': [0.0, ''],\n",
       "   'CUTwsGvec': [0.7, ''],\n",
       "   'GfnQP_INTERP_NN': [1.0, ''],\n",
       "   'GfnQP_INTERP_shells': [20.0, ''],\n",
       "   'GfnQP_Wv_E': [0.0, 'eV'],\n",
       "   'GfnQP_Wv_dos': [0.0, 'eV'],\n",
       "   'GfnQP_Wc_E': [0.0, 'eV'],\n",
       "   'GfnQP_Wc_dos': [0.0, 'eV'],\n",
       "   'FANdEtresh': [1e-06, 'eV'],\n",
       "   'DWdEtresh': [1e-06, 'eV'],\n",
       "   'GDamping': [0.1, 'eV'],\n",
       "   'dScStep': [0.1, 'eV'],\n",
       "   'ElPhRndNq': [12.0, ''],\n",
       "   'GfnRT_N': [1.0, ''],\n",
       "   'DBsIOoff': 'none',\n",
       "   'DBsFRAGpm': 'none',\n",
       "   'PAR_def_mode': 'balanced',\n",
       "   'CUTGeo': 'none',\n",
       "   'GfnQPdb': 'none',\n",
       "   'GfnQP_DbGd_INTERP_mode': 'NN',\n",
       "   'DysSolver': 'n',\n",
       "   'GkkpDB': 'gkkp',\n",
       "   'GfnRTdb': 'f @ 0.0 fs < ypp-carriers-rtpumpehen_-0.118_1.21-rtpumpnel=1.0/ndb.RT_carriers',\n",
       "   'GfnQP_Z': [(1+0j), ''],\n",
       "   'Em1Anys': [[0.0, 0.0, 0.0], ''],\n",
       "   'CUTBox': [[0.0, 0.0, 0.0], ''],\n",
       "   'GfnQP_E': [[0.0, 1.0, 1.0], ''],\n",
       "   'GfnQP_Wv': [[0.0, 0.0, 0.0], ''],\n",
       "   'GfnQP_Wc': [[0.0, 0.0, 0.0], ''],\n",
       "   'GphBRnge': [[1, 70], ''],\n",
       "   'ElPhModes': [[1, 18], ''],\n",
       "   'QPkrange': [[12, 12, 40, 60], ''],\n",
       "   'QPerange': [[1, 12, 0.0, '-1.000000'], ''],\n",
       "   'DmRngeXd': [[0.03, 0.03], 'eV'],\n",
       "   'SE_ROLEs': 'q.qp.b',\n",
       "   'SE_CPU': '1.2.16',\n",
       "   'X_and_IO_ROLEs': 'q.g.k.c.v',\n",
       "   'X_and_IO_CPU': '1.1.1.8.4'}},\n",
       " 'jobname': ['lifetimes-K-phonon-neq-ypp-carriers-rtpumpehen_-0.118_1.21-rtpumpnel=1.0',\n",
       "  'GKKP'],\n",
       " 'skip': False,\n",
       " 'name': 'lifetimes-K-phonon-neq-ypp-carriers-rtpumpehen_-0.118_1.21-rtpumpnel=1.0'}"
      ]
     },
     "execution_count": 145,
     "metadata": {},
     "output_type": "execute_result"
    }
   ],
   "source": [
    "study.runs[0]"
   ]
  },
  {
   "cell_type": "code",
   "execution_count": 146,
   "metadata": {},
   "outputs": [
    {
     "name": "stdout",
     "output_type": "stream",
     "text": [
      "Run the selection [0] with the parallel task_groups [[0]] \n",
      "\n",
      "Run the task [0] \n",
      "run command: mpirun -np 32 yambo_rt -F lifetimes-K-phonon-neq-ypp-carriers-rtpumpehen_-0.118_1.21-rtpumpnel=1.0.in -J \"lifetimes-K-phonon-neq-ypp-carriers-rtpumpehen_-0.118_1.21-rtpumpnel=1.0,GKKP\" -C lifetimes-K-phonon-neq-ypp-carriers-rtpumpehen_-0.118_1.21-rtpumpnel=1.0\n",
      "slurm submit:  cd PHONON/yambo ; sbatch job_lifetimes-K-phonon-neq-ypp-carriers-rtpumpehen_-0.118_1.21-rtpumpnel=1.0.sh\n",
      "computation lifetimes-K-phonon-neq-ypp-carriers-rtpumpehen_-0.118_1.21-rtpumpnel=1.0 is running...\n",
      "computation lifetimes-K-phonon-neq-ypp-carriers-rtpumpehen_-0.118_1.21-rtpumpnel=1.0 ended\n",
      "Run performed in 14s\n",
      "Task [0] ended \n",
      " \n"
     ]
    }
   ],
   "source": [
    "results = study.run()"
   ]
  },
  {
   "cell_type": "code",
   "execution_count": 148,
   "metadata": {},
   "outputs": [
    {
     "data": {
      "text/plain": [
       "2.846625"
      ]
     },
     "execution_count": 148,
     "metadata": {},
     "output_type": "execute_result"
    }
   ],
   "source": [
    "width = results[0].data['qp']['col6'][11]\n",
    "width"
   ]
  },
  {
   "cell_type": "code",
   "execution_count": 133,
   "metadata": {},
   "outputs": [
    {
     "data": {
      "text/plain": [
       "[1.057408, 1.057408, 1.057408]"
      ]
     },
     "execution_count": 133,
     "metadata": {},
     "output_type": "execute_result"
    }
   ],
   "source": [
    "width = []\n",
    "for ind,rtpump in enumerate(RTpumpNel):\n",
    "    width.append(results[ind].data['qp']['col6'][11])\n",
    "width"
   ]
  },
  {
   "cell_type": "code",
   "execution_count": 135,
   "metadata": {},
   "outputs": [
    {
     "name": "stdout",
     "output_type": "stream",
     "text": [
      "Parse file : PHONON/yambo/ypp-carriers-rtpumpnel=1.0/ndb.RT_carriers\n"
     ]
    }
   ],
   "source": [
    "bla = P.YamboRTCarriersParser('PHONON/yambo/ypp-carriers-rtpumpnel=1.0/ndb.RT_carriers')"
   ]
  },
  {
   "cell_type": "code",
   "execution_count": 136,
   "metadata": {},
   "outputs": [
    {
     "name": "stdout",
     "output_type": "stream",
     "text": [
      "YamboRTCarriersParser variables structure\n",
      "Bands used and number of k-points [49 54 12]\n",
      "kpoints shape (12, 3)\n",
      "E_bare shape (72,)\n",
      "f_bare shape (72,)\n",
      "delta_E shape (1, 72)\n",
      "delta_f (1, 72)\n"
     ]
    }
   ],
   "source": [
    "bla.get_info()"
   ]
  },
  {
   "cell_type": "code",
   "execution_count": null,
   "metadata": {},
   "outputs": [],
   "source": []
  },
  {
   "cell_type": "code",
   "execution_count": null,
   "metadata": {},
   "outputs": [],
   "source": []
  },
  {
   "cell_type": "code",
   "execution_count": null,
   "metadata": {},
   "outputs": [],
   "source": []
  },
  {
   "cell_type": "code",
   "execution_count": null,
   "metadata": {},
   "outputs": [],
   "source": []
  }
 ],
 "metadata": {
  "kernelspec": {
   "display_name": "Python 3",
   "language": "python",
   "name": "python3"
  },
  "language_info": {
   "codemirror_mode": {
    "name": "ipython",
    "version": 3
   },
   "file_extension": ".py",
   "mimetype": "text/x-python",
   "name": "python",
   "nbconvert_exporter": "python",
   "pygments_lexer": "ipython3",
   "version": "3.6.8"
  }
 },
 "nbformat": 4,
 "nbformat_minor": 4
}
