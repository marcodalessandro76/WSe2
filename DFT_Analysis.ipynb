{
 "cells": [
  {
   "cell_type": "code",
   "execution_count": 1,
   "metadata": {},
   "outputs": [],
   "source": [
    "# useful to autoreload the module without restarting the kernel\n",
    "%load_ext autoreload\n",
    "%autoreload 2"
   ]
  },
  {
   "cell_type": "code",
   "execution_count": 2,
   "metadata": {},
   "outputs": [],
   "source": [
    "from mppi import InputFiles as I, Calculators as C, Datasets as D, Parsers as P, Utilities as U\n",
    "from mppi.Calculators import Tools\n",
    "from mppi.Datasets import PostProcessing as PP\n",
    "from mppi.Utilities import Constants as Const\n",
    "from mppi.Utilities import LatticeUtils as LL\n",
    "import matplotlib.pyplot as plt\n",
    "import numpy as np\n",
    "import os, yaml"
   ]
  },
  {
   "cell_type": "code",
   "execution_count": null,
   "metadata": {},
   "outputs": [],
   "source": [
    "# RunRules for local computations\n",
    "mpi = 4\n",
    "omp = 2\n",
    "\n",
    "rr = C.RunRules(omp_num_threads=omp,mpi=mpi)\n",
    "code = C.QeCalculator(rr)\n",
    "#code.global_options()"
   ]
  },
  {
   "cell_type": "code",
   "execution_count": 3,
   "metadata": {},
   "outputs": [
    {
     "name": "stdout",
     "output_type": "stream",
     "text": [
      "Initialize a QuantumESPRESSO calculator with scheduler slurm\n"
     ]
    },
    {
     "data": {
      "text/plain": [
       "{'scheduler': 'slurm',\n",
       " 'nodes': 1,\n",
       " 'ntasks_per_node': 16,\n",
       " 'cpus_per_task': 2,\n",
       " 'omp_num_threads': 2,\n",
       " 'gpus_per_node': None,\n",
       " 'memory': '125000',\n",
       " 'time': '11:59:00',\n",
       " 'partition': 'all12h',\n",
       " 'account': None,\n",
       " 'qos': None,\n",
       " 'map_by': None,\n",
       " 'pe': 1,\n",
       " 'rank_by': None,\n",
       " 'executable': 'pw.x',\n",
       " 'skip': True,\n",
       " 'clean_restart': True,\n",
       " 'dry_run': False,\n",
       " 'wait_end_run': True,\n",
       " 'activate_BeeOND': True,\n",
       " 'verbose': True}"
      ]
     },
     "execution_count": 3,
     "metadata": {},
     "output_type": "execute_result"
    }
   ],
   "source": [
    "# RunRules for ismhpc\n",
    "# The product of ntasks_per_node*cpus_per_task is equal to 32. \n",
    "# Many mpi are needed for better performances\n",
    "nodes = 1\n",
    "ntasks_per_node = 16\n",
    "cpus_per_task=2\n",
    "omp_num_threads=2\n",
    "\n",
    "ntasks = nodes*ntasks_per_node\n",
    "\n",
    "rr = C.RunRules(scheduler='slurm',partition='all12h',\n",
    "                memory='125000',time='11:59:00',\n",
    "                nodes=nodes,ntasks_per_node=ntasks_per_node,\n",
    "                cpus_per_task=cpus_per_task,\n",
    "                omp_num_threads=omp_num_threads)\n",
    "code = C.QeCalculator(rr,activate_BeeOND=True) #,skip=False,clean_restart=False\n",
    "code.global_options()"
   ]
  },
  {
   "cell_type": "markdown",
   "metadata": {
    "tags": []
   },
   "source": [
    "# DFT analysis of the bulk WSe$_2$"
   ]
  },
  {
   "cell_type": "markdown",
   "metadata": {},
   "source": [
    "## GS analysis"
   ]
  },
  {
   "cell_type": "markdown",
   "metadata": {},
   "source": [
    "We use the input file 'Pw_input_Marini/scf.in' as starting point for the DFT analysis"
   ]
  },
  {
   "cell_type": "code",
   "execution_count": 4,
   "metadata": {},
   "outputs": [
    {
     "data": {
      "text/plain": [
       "{'control': {'calculation': \"'scf'\",\n",
       "  'verbosity': \"'high'\",\n",
       "  'prefix': \"'WSe2'\",\n",
       "  'outdir': \"'./'\",\n",
       "  'pseudo_dir': \"'../pseudos'\"},\n",
       " 'system': {'force_symmorphic': '.TRUE.',\n",
       "  'ibrav': 4,\n",
       "  'celldm(1)': 6.1983017192617,\n",
       "  'celldm(3)': 3.95,\n",
       "  'ntyp': 2,\n",
       "  'nat': 6,\n",
       "  'ecutwfc': 50,\n",
       "  'noncolin': '.true.',\n",
       "  'lspinorb': '.true.'},\n",
       " 'electrons': {'diago_full_acc': '.false.', 'conv_thr': '1.0d-6'},\n",
       " 'ions': {},\n",
       " 'cell': {},\n",
       " 'atomic_species': {'Se': [32.065, 'Se_FR.upf'], 'W': [183.84, 'W_FR.upf']},\n",
       " 'atomic_positions': {'type': 'crystal',\n",
       "  'values': [['W', [0.333333, 0.666667, 0.25]],\n",
       "   ['W', [0.666667, 0.333333, 0.75]],\n",
       "   ['Se', [0.333333, 0.666667, 0.621148493]],\n",
       "   ['Se', [0.666667, 0.333333, 0.121148493]],\n",
       "   ['Se', [0.333333, 0.666667, 0.878851507]],\n",
       "   ['Se', [0.666667, 0.333333, 0.378851507]]]},\n",
       " 'kpoints': {'type': 'automatic',\n",
       "  'values': ([9.0, 9.0, 1.0], [1.0, 1.0, 0.0])},\n",
       " 'cell_parameters': {},\n",
       " 'file': 'Pw_input_Marini/scf.in'}"
      ]
     },
     "execution_count": 4,
     "metadata": {},
     "output_type": "execute_result"
    }
   ],
   "source": [
    "inp = I.PwInput(file='Pw_input_Marini/scf.in')\n",
    "inp.set_pseudo_dir('../pseudos')\n",
    "inp"
   ]
  },
  {
   "cell_type": "markdown",
   "metadata": {},
   "source": [
    "We plot the lattice positions of the atoms"
   ]
  },
  {
   "cell_type": "code",
   "execution_count": 18,
   "metadata": {},
   "outputs": [],
   "source": [
    "alat = inp['system']['celldm(1)'] # in a.u. (Bohr)\n",
    "celldm3 = inp['system']['celldm(3)'] # in units of alat\n",
    "atoms = inp['atomic_positions']['values']\n",
    "\n",
    "lattice = alat*np.array([[1,0,0],[-1./2.,np.sqrt(3)/2.,0],[0,0,celldm3]])\n",
    "positions = LL.build_lattice(lattice,atoms,6,6,3)"
   ]
  },
  {
   "cell_type": "code",
   "execution_count": 24,
   "metadata": {
    "tags": []
   },
   "outputs": [
    {
     "data": {
      "text/plain": [
       "<matplotlib.legend.Legend at 0x7f0f6312ccc0>"
      ]
     },
     "execution_count": 24,
     "metadata": {},
     "output_type": "execute_result"
    },
    {
     "data": {
      "image/png": "[encoded data removed]",
      "text/plain": [
       "<Figure size 1296x576 with 2 Axes>"
      ]
     },
     "metadata": {
      "needs_background": "light"
     },
     "output_type": "display_data"
    }
   ],
   "source": [
    "fig, ax = plt.subplots(nrows=1,ncols=2,figsize=(18, 8))\n",
    "\n",
    "for pos in positions:\n",
    "    ax[0].scatter(pos[1],pos[2],label=pos[0])\n",
    "ax[0].set_title('Atomic positions in the xy plane',size=12)\n",
    "ax[0].legend()\n",
    "\n",
    "for pos in positions:\n",
    "    ax[1].scatter(pos[1],pos[3],label=pos[0])\n",
    "ax[1].set_title('Atomic positions in the xz plane',size=12)\n",
    "ax[1].legend()"
   ]
  },
  {
   "cell_type": "markdown",
   "metadata": {},
   "source": [
    "We perform scf calculations for various $k$-points sampling.\n",
    "\n",
    "We perform a convergence procedure of the scf $k$-points sampling using the total energy\n",
    "and the band gap value as control quantities"
   ]
  },
  {
   "cell_type": "code",
   "execution_count": 8,
   "metadata": {},
   "outputs": [],
   "source": [
    "run_dir = 'DFT_analysis'"
   ]
  },
  {
   "cell_type": "code",
   "execution_count": 9,
   "metadata": {},
   "outputs": [],
   "source": [
    "kvalues = [[12,12,3],[15,15,3],[18,18,4]]"
   ]
  },
  {
   "cell_type": "code",
   "execution_count": 10,
   "metadata": {},
   "outputs": [
    {
     "name": "stdout",
     "output_type": "stream",
     "text": [
      "Initialize a Dataset with 3 parallel tasks\n"
     ]
    }
   ],
   "source": [
    "study = D.Dataset(run_dir=run_dir,num_tasks=3)\n",
    "\n",
    "for k in kvalues:\n",
    "    idd = 'scf-kpoints_%sx%sx%s'%(k[0],k[1],k[2])\n",
    "    inp.set_prefix(D.name_from_id(idd))\n",
    "    inp.set_num_bnds(54)\n",
    "    inp.set_kpoints(type='automatic',points=k)\n",
    "    study.append_run(id=idd,input=inp,runner=code)\n",
    "    \n",
    "study.set_postprocessing_function(PP.pw_parse_data)"
   ]
  },
  {
   "cell_type": "code",
   "execution_count": 11,
   "metadata": {},
   "outputs": [],
   "source": [
    "#study.runs[0]"
   ]
  },
  {
   "cell_type": "code",
   "execution_count": 12,
   "metadata": {},
   "outputs": [
    {
     "name": "stdout",
     "output_type": "stream",
     "text": [
      "Run the selection [0, 1, 2] with the parallel task_groups [[0, 1, 2]] \n",
      "\n",
      "Run the task [0, 1, 2] \n",
      "Skip the run ofSkip the run of  scf-kpoints_15x15x3\n",
      "scf-kpoints_18x18x4\n",
      "Skip the run of scf-kpoints_12x12x3\n",
      "Task [0, 1, 2] ended \n",
      " \n"
     ]
    }
   ],
   "source": [
    "results = study.run()"
   ]
  },
  {
   "cell_type": "code",
   "execution_count": 13,
   "metadata": {},
   "outputs": [
    {
     "name": "stdout",
     "output_type": "stream",
     "text": [
      "-189.9260048713656\n",
      "-189.9260024311404\n",
      "-189.9260035968925\n"
     ]
    }
   ],
   "source": [
    "for r in results.values():\n",
    "    print(r.energy)"
   ]
  },
  {
   "cell_type": "code",
   "execution_count": 14,
   "metadata": {},
   "outputs": [
    {
     "name": "stdout",
     "output_type": "stream",
     "text": [
      "Indirect gap system\n",
      "===================\n",
      "Gap : 0.910425261703681 eV\n",
      "Direct gap : 1.3347820285864245 eV\n",
      "{'gap': 0.910425261703681, 'direct_gap': 1.3347820285864245, 'position_cbm': 40, 'positon_vbm': 0, 'positon_direct_gap': 52}\n",
      "Indirect gap system\n",
      "===================\n",
      "Gap : 0.9037334787581894 eV\n",
      "Direct gap : 1.3346669675759024 eV\n",
      "{'gap': 0.9037334787581894, 'direct_gap': 1.3346669675759024, 'position_cbm': 75, 'positon_vbm': 0, 'positon_direct_gap': 108}\n",
      "Indirect gap system\n",
      "===================\n",
      "Gap : 0.9035789906358005 eV\n",
      "Direct gap : 1.3349688553619057 eV\n",
      "{'gap': 0.9035789906358005, 'direct_gap': 1.3349688553619057, 'position_cbm': 24, 'positon_vbm': 0, 'positon_direct_gap': 36}\n"
     ]
    }
   ],
   "source": [
    "for r in results.values():\n",
    "    print(r.get_gap())"
   ]
  },
  {
   "cell_type": "markdown",
   "metadata": {},
   "source": [
    "We use the 12x12x3 k samplings as the converged value for the scf calculations in what follows"
   ]
  },
  {
   "cell_type": "markdown",
   "metadata": {
    "tags": []
   },
   "source": [
    "## Band structure on high symmetry line"
   ]
  },
  {
   "cell_type": "markdown",
   "metadata": {},
   "source": [
    "Now we perform the bands computation specifying the kpoints on a path. \n",
    "\n",
    "To define the path we write the coordinates of the high symmetry points (using the tpiba_b type of\n",
    "pw) and we make usage of the function build_kpath"
   ]
  },
  {
   "cell_type": "code",
   "execution_count": 61,
   "metadata": {},
   "outputs": [],
   "source": [
    "bands_prefix = 'bands'\n",
    "G = [0.,0.,0.]\n",
    "Kp = [1./3.,1./np.sqrt(3),0.]\n",
    "Mp = [0.,1./np.sqrt(3),0.]\n",
    "high_sym = {'G':G,'K':Kp,'M':Mp} # useful to label the high-sym point on the path"
   ]
  },
  {
   "cell_type": "code",
   "execution_count": 63,
   "metadata": {},
   "outputs": [
    {
     "data": {
      "text/plain": [
       "[[0.0, 0.0, 0.0, 30],\n",
       " [0.0, 0.5773502691896258, 0.0, 30],\n",
       " [0.3333333333333333, 0.5773502691896258, 0.0, 30],\n",
       " [0.0, 0.0, 0.0, 0]]"
      ]
     },
     "execution_count": 63,
     "metadata": {},
     "output_type": "execute_result"
    }
   ],
   "source": [
    "klist = Tools.build_pw_kpath(G,Mp,Kp,G,numstep=30)\n",
    "klist"
   ]
  },
  {
   "cell_type": "code",
   "execution_count": 65,
   "metadata": {},
   "outputs": [
    {
     "data": {
      "text/plain": [
       "{'control': {'calculation': \"'bands'\",\n",
       "  'verbosity': \"'high'\",\n",
       "  'prefix': \"'bands'\",\n",
       "  'outdir': \"'./'\",\n",
       "  'pseudo_dir': \"'../pseudos'\"},\n",
       " 'system': {'force_symmorphic': '.true.',\n",
       "  'ibrav': 4,\n",
       "  'celldm(1)': 6.1983017192617,\n",
       "  'celldm(3)': 3.95,\n",
       "  'ntyp': 2,\n",
       "  'nat': 6,\n",
       "  'ecutwfc': 50,\n",
       "  'noncolin': '.true.',\n",
       "  'lspinorb': '.true.',\n",
       "  'nbnd': 60},\n",
       " 'electrons': {'diago_full_acc': '.false.', 'conv_thr': 1e-06},\n",
       " 'ions': {},\n",
       " 'cell': {},\n",
       " 'atomic_species': {'Se': [32.065, 'Se_FR.upf'], 'W': [183.84, 'W_FR.upf']},\n",
       " 'atomic_positions': {'type': 'crystal',\n",
       "  'values': [['W', [0.333333, 0.666667, 0.25]],\n",
       "   ['W', [0.666667, 0.333333, 0.75]],\n",
       "   ['Se', [0.333333, 0.666667, 0.621148493]],\n",
       "   ['Se', [0.666667, 0.333333, 0.121148493]],\n",
       "   ['Se', [0.333333, 0.666667, 0.878851507]],\n",
       "   ['Se', [0.666667, 0.333333, 0.378851507]]]},\n",
       " 'kpoints': {'type': 'tpiba_b',\n",
       "  'values': [[0.0, 0.0, 0.0, 30],\n",
       "   [0.0, 0.5773502691896258, 0.0, 30],\n",
       "   [0.3333333333333333, 0.5773502691896258, 0.0, 30],\n",
       "   [0.0, 0.0, 0.0, 0]]},\n",
       " 'cell_parameters': {},\n",
       " 'file': 'Pw_input_Marini/scf.in'}"
      ]
     },
     "execution_count": 65,
     "metadata": {},
     "output_type": "execute_result"
    }
   ],
   "source": [
    "inp.set_bands(60,force_symmorphic=True,conv_thr=1e-6)\n",
    "inp.set_prefix(bands_prefix)\n",
    "inp.set_kpoints(type='tpiba_b',klist=klist)\n",
    "inp"
   ]
  },
  {
   "cell_type": "code",
   "execution_count": 66,
   "metadata": {},
   "outputs": [
    {
     "name": "stdout",
     "output_type": "stream",
     "text": [
      "copy source_dir DFT_analysis/scf-kpoints_12x12x3.save in the /work/dalessandro/NEQ_EXCITONIC_TRANSITIONS/WSe2/DFT_analysis/bands.save\n",
      "run command: mpirun -np 16 pw.x -inp bands.in > bands.log\n",
      "slurm submit:  cd DFT_analysis ; sbatch job_bands.sh\n",
      "computation bands is running...\n",
      "computation bands ended\n"
     ]
    }
   ],
   "source": [
    "results = code.run(input=inp,run_dir=run_dir,name=bands_prefix,source_dir='DFT_analysis/scf-kpoints_12x12x3.save')"
   ]
  },
  {
   "cell_type": "markdown",
   "metadata": {},
   "source": [
    "Once that the computation is over we can create an instance of PwBands"
   ]
  },
  {
   "cell_type": "code",
   "execution_count": 67,
   "metadata": {},
   "outputs": [],
   "source": [
    "bands = U.BandStructure.from_Pw(results,high_sym)"
   ]
  },
  {
   "cell_type": "code",
   "execution_count": 68,
   "metadata": {},
   "outputs": [
    {
     "data": {
      "text/plain": [
       "(['$\\\\Gamma$', '$\\\\Gamma$', 'K', 'M'],\n",
       " [0.0, 1.5773502657018026, 0.9106835999999987, 0.57735027])"
      ]
     },
     "execution_count": 68,
     "metadata": {},
     "output_type": "execute_result"
    }
   ],
   "source": [
    "bands.get_high_sym_positions()"
   ]
  },
  {
   "cell_type": "code",
   "execution_count": 72,
   "metadata": {},
   "outputs": [
    {
     "data": {
      "image/png": "[encoded data removed]",
      "text/plain": [
       "<Figure size 720x576 with 1 Axes>"
      ]
     },
     "metadata": {
      "needs_background": "light"
     },
     "output_type": "display_data"
    }
   ],
   "source": [
    "label_size = 20\n",
    "\n",
    "fig, ax = plt.subplots(figsize=(10, 8))\n",
    "#ax.set_ylim(-5,7)\n",
    "bands.plot(plt,selection=[i for i in range(48,56)])\n",
    "ax.hlines(0.,0.,1.57,linestyles='-',color='gray',linewidth=1)\n",
    "ax.set_ylabel('Bands structure (eV)',size=label_size)\n",
    "ax.tick_params(axis='both', which='major', labelsize=label_size)\n",
    "\n",
    "#plt.savefig(fname='Plot/band_structure.eps',format='eps',bbox_inches = \"tight\")"
   ]
  },
  {
   "cell_type": "markdown",
   "metadata": {},
   "source": [
    "## NSCF computations on regular grids"
   ]
  },
  {
   "cell_type": "markdown",
   "metadata": {},
   "source": [
    "We compute the KS states on the various $k$-samplings.\n",
    "\n",
    "We also compare the results due to shifted grids"
   ]
  },
  {
   "cell_type": "code",
   "execution_count": 13,
   "metadata": {},
   "outputs": [],
   "source": [
    "kvalues = [[12,12,3],[15,15,4],[18,18,5],[24,24,6]]"
   ]
  },
  {
   "cell_type": "code",
   "execution_count": 14,
   "metadata": {},
   "outputs": [],
   "source": [
    "nbnds = 100 #60\n",
    "inp.set_nscf(nbnds,force_symmorphic=True,conv_thr=1e-6)\n",
    "#inp"
   ]
  },
  {
   "cell_type": "code",
   "execution_count": 15,
   "metadata": {},
   "outputs": [
    {
     "name": "stdout",
     "output_type": "stream",
     "text": [
      "Initialize a Dataset with 1 parallel tasks\n"
     ]
    }
   ],
   "source": [
    "study = D.Dataset(run_dir=run_dir,num_tasks=1)\n",
    "study.set_postprocessing_function(PP.pw_parse_data)\n",
    "\n",
    "for k in kvalues:\n",
    "    idd = {'kpoints':'%sx%sx%s'%(k[0],k[1],k[2]),'nbnds':nbnds}\n",
    "    #idd = {'kpoints':'%sx%sx%s_shifted'%(k[0],k[1],k[2]),'nbnds':nbnds}\n",
    "    inp.set_prefix(D.name_from_id(idd))\n",
    "    inp.set_kpoints(points=k)\n",
    "    #inp.set_kpoints(points=k,shift=[1.,1.,0.])\n",
    "    study.append_run(id=idd,input=inp,runner=code,source_dir='DFT_analysis/scf-kpoints_12x12x3.save')"
   ]
  },
  {
   "cell_type": "code",
   "execution_count": 16,
   "metadata": {},
   "outputs": [
    {
     "data": {
      "text/plain": [
       "{'label': 'Dataset',\n",
       " 'run_dir': 'DFT_analysis',\n",
       " 'num_tasks': 1,\n",
       " 'verbose': True,\n",
       " 'input': {'control': {'calculation': \"'nscf'\",\n",
       "   'verbosity': \"'high'\",\n",
       "   'prefix': \"'kpoints_12x12x3-nbnds_100'\",\n",
       "   'outdir': \"'./'\",\n",
       "   'pseudo_dir': \"'../pseudos'\"},\n",
       "  'system': {'force_symmorphic': '.true.',\n",
       "   'ibrav': 4,\n",
       "   'celldm(1)': 6.1983017192617,\n",
       "   'celldm(3)': 3.95,\n",
       "   'ntyp': 2,\n",
       "   'nat': 6,\n",
       "   'ecutwfc': 50,\n",
       "   'noncolin': '.true.',\n",
       "   'lspinorb': '.true.',\n",
       "   'nbnd': 100},\n",
       "  'electrons': {'diago_full_acc': '.false.', 'conv_thr': 1e-06},\n",
       "  'ions': {},\n",
       "  'cell': {},\n",
       "  'atomic_species': {'Se': [32.065, 'Se_FR.upf'], 'W': [183.84, 'W_FR.upf']},\n",
       "  'atomic_positions': {'type': 'crystal',\n",
       "   'values': [['W', [0.333333, 0.666667, 0.25]],\n",
       "    ['W', [0.666667, 0.333333, 0.75]],\n",
       "    ['Se', [0.333333, 0.666667, 0.621148493]],\n",
       "    ['Se', [0.666667, 0.333333, 0.121148493]],\n",
       "    ['Se', [0.333333, 0.666667, 0.878851507]],\n",
       "    ['Se', [0.666667, 0.333333, 0.378851507]]]},\n",
       "  'kpoints': {'type': 'automatic', 'values': ([12, 12, 3], [0.0, 0.0, 0.0])},\n",
       "  'cell_parameters': {},\n",
       "  'file': 'Pw_input_Marini/scf.in'},\n",
       " 'source_dir': 'DFT_analysis/scf-kpoints_12x12x3.save',\n",
       " 'name': 'kpoints_12x12x3-nbnds_100'}"
      ]
     },
     "execution_count": 16,
     "metadata": {},
     "output_type": "execute_result"
    }
   ],
   "source": [
    "study.runs[0]"
   ]
  },
  {
   "cell_type": "code",
   "execution_count": 10,
   "metadata": {},
   "outputs": [
    {
     "name": "stdout",
     "output_type": "stream",
     "text": [
      "Run the selection [0, 1, 2, 3] with the parallel task_groups [[0], [1], [2], [3]] \n",
      "\n",
      "Run the task [0] \n",
      "Skip the run of kpoints_12x12x3-nbnds_100\n",
      "The folder /work/dalessandro/NEQ_EXCITONIC_TRANSITIONS/WSe2/DFT_analysis/kpoints_12x12x3-nbnds_100.save already exists. Source_dir DFT_analysis/scf-kpoints_12x12x3.save not copied\n",
      "Task [0] ended \n",
      " \n",
      "Run the task [1] \n",
      "Skip the run of kpoints_15x15x4-nbnds_100\n",
      "The folder /work/dalessandro/NEQ_EXCITONIC_TRANSITIONS/WSe2/DFT_analysis/kpoints_15x15x4-nbnds_100.save already exists. Source_dir DFT_analysis/scf-kpoints_12x12x3.save not copied\n",
      "Task [1] ended \n",
      " \n",
      "Run the task [2] \n",
      "Skip the run of kpoints_18x18x5-nbnds_100\n",
      "The folder /work/dalessandro/NEQ_EXCITONIC_TRANSITIONS/WSe2/DFT_analysis/kpoints_18x18x5-nbnds_100.save already exists. Source_dir DFT_analysis/scf-kpoints_12x12x3.save not copied\n",
      "Task [2] ended \n",
      " \n",
      "Run the task [3] \n",
      "Skip the run of kpoints_24x24x6-nbnds_100\n",
      "The folder /work/dalessandro/NEQ_EXCITONIC_TRANSITIONS/WSe2/DFT_analysis/kpoints_24x24x6-nbnds_100.save already exists. Source_dir DFT_analysis/scf-kpoints_12x12x3.save not copied\n",
      "Task [3] ended \n",
      " \n"
     ]
    }
   ],
   "source": [
    "results = study.run()"
   ]
  },
  {
   "cell_type": "code",
   "execution_count": 11,
   "metadata": {},
   "outputs": [],
   "source": [
    "Gamma = np.array([0.,0.])\n",
    "K = np.array([2./3.,0])\n",
    "M = np.array([1./2.,1./(2*np.sqrt(3))])\n",
    "Kp = np.array([1./3.,1./np.sqrt(3)])\n",
    "Mp = np.array([0.,1./np.sqrt(3)])"
   ]
  },
  {
   "cell_type": "code",
   "execution_count": 12,
   "metadata": {},
   "outputs": [],
   "source": [
    "kp = results[0].kpoints # cartesian coordinates in units of 2\\pi/alat"
   ]
  },
  {
   "cell_type": "code",
   "execution_count": 13,
   "metadata": {},
   "outputs": [
    {
     "name": "stdout",
     "output_type": "stream",
     "text": [
      "number of kpoints = 50\n"
     ]
    },
    {
     "data": {
      "text/plain": [
       "<matplotlib.collections.PathCollection at 0x7f25c4b8eb70>"
      ]
     },
     "execution_count": 13,
     "metadata": {},
     "output_type": "execute_result"
    },
    {
     "data": {
      "image/png": "[encoded data removed]",
      "text/plain": [
       "<Figure size 432x288 with 1 Axes>"
      ]
     },
     "metadata": {
      "needs_background": "light"
     },
     "output_type": "display_data"
    }
   ],
   "source": [
    "BZ = [K, Kp, Mp]\n",
    "print('number of kpoints = %s'%len(kp))\n",
    "plt.plot(*np.column_stack(BZ),color='black')\n",
    "IBZ = [Gamma,Kp, Mp,Gamma]\n",
    "plt.plot(*np.column_stack(IBZ),color='red')\n",
    "plt.scatter(kp[:,0],kp[:,1],c='blue')"
   ]
  },
  {
   "cell_type": "code",
   "execution_count": null,
   "metadata": {},
   "outputs": [],
   "source": []
  },
  {
   "cell_type": "code",
   "execution_count": null,
   "metadata": {},
   "outputs": [],
   "source": []
  }
 ],
 "metadata": {
  "kernelspec": {
   "display_name": "Python 3",
   "language": "python",
   "name": "python3"
  },
  "language_info": {
   "codemirror_mode": {
    "name": "ipython",
    "version": 3
   },
   "file_extension": ".py",
   "mimetype": "text/x-python",
   "name": "python",
   "nbconvert_exporter": "python",
   "pygments_lexer": "ipython3",
   "version": "3.6.8"
  }
 },
 "nbformat": 4,
 "nbformat_minor": 4
}
