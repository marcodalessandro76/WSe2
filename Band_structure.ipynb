{
 "cells": [
  {
   "cell_type": "code",
   "execution_count": 1,
   "metadata": {
    "tags": []
   },
   "outputs": [],
   "source": [
    "# useful to autoreload the module without restarting the kernel\n",
    "%load_ext autoreload\n",
    "%autoreload 2"
   ]
  },
  {
   "cell_type": "code",
   "execution_count": 2,
   "metadata": {},
   "outputs": [],
   "source": [
    "from mppi import InputFiles as I, Calculators as C, Datasets as D, Utilities as U, Parsers as P\n",
    "from mppi.Utilities import Constants as Const\n",
    "from mppi.Calculators import Tools\n",
    "from mppi.Datasets import PostProcessing as PP\n",
    "import matplotlib.pyplot as plt\n",
    "import numpy as np\n",
    "from scipy.signal import argrelextrema\n",
    "import os\n",
    "\n",
    "h_red = Const.Planck_reduced_ev_ps*1e3 # hbar in eV*fs\n",
    "h = Const.Planck_ev_ps*1e3 # h in eV*fs"
   ]
  },
  {
   "cell_type": "code",
   "execution_count": 3,
   "metadata": {},
   "outputs": [
    {
     "name": "stdout",
     "output_type": "stream",
     "text": [
      "Initialize a Yambo calculator with scheduler slurm\n"
     ]
    },
    {
     "data": {
      "text/plain": [
       "{'scheduler': 'slurm',\n",
       " 'nodes': 1,\n",
       " 'ntasks_per_node': 32,\n",
       " 'cpus_per_task': 1,\n",
       " 'omp_num_threads': 1,\n",
       " 'gpus_per_node': None,\n",
       " 'memory': '124000',\n",
       " 'time': None,\n",
       " 'partition': 'all12h',\n",
       " 'account': None,\n",
       " 'qos': None,\n",
       " 'map_by': None,\n",
       " 'pe': 1,\n",
       " 'rank_by': None,\n",
       " 'executable': 'ypp',\n",
       " 'skip': True,\n",
       " 'clean_restart': True,\n",
       " 'dry_run': False,\n",
       " 'wait_end_run': True,\n",
       " 'activate_BeeOND': True,\n",
       " 'verbose': True,\n",
       " 'fatlog': False}"
      ]
     },
     "execution_count": 3,
     "metadata": {},
     "output_type": "execute_result"
    }
   ],
   "source": [
    "# RunRules for ismhpc\n",
    "# The product of ntasks_per_node*cpus_per_task is equal to 32. \n",
    "# Many mpi are needed for better performances\n",
    "nodes = 1\n",
    "ntasks_per_node = 32\n",
    "cpus_per_task=1\n",
    "omp_num_threads=1\n",
    "\n",
    "ntasks = nodes*ntasks_per_node\n",
    "\n",
    "rr = C.RunRules(scheduler='slurm',partition='all12h', #fastnodes\n",
    "                memory='124000',\n",
    "                nodes=nodes,ntasks_per_node=ntasks_per_node,\n",
    "                cpus_per_task=cpus_per_task,\n",
    "                omp_num_threads=omp_num_threads)\n",
    "ypp_code = C.YamboCalculator(rr,executable='ypp',activate_BeeOND=True) \n",
    "ypp_code.global_options()"
   ]
  },
  {
   "cell_type": "markdown",
   "metadata": {},
   "source": [
    "# Analysis of the band structure of the WSe$_2$"
   ]
  },
  {
   "cell_type": "markdown",
   "metadata": {},
   "source": [
    "We compute the dft band stucture.\n",
    "\n",
    "Valence bands are the 51 and 52.\n",
    "\n",
    "Bulk Wse2 is assumed to be an indirect semiconductor with a gap of 1.25 eV (https://www.2dsemiconductors.com/tungsten-diselenide-wse).\n",
    "\n",
    "We use this information to compute the value of the scissor for each k sampling used. Note that within DFT approach the top\n",
    "of valence band is at $\\Gamma$ whereas the physical indirect gap is obtained from K to the minum of the K valley\n",
    "of the conduction band. So we compute the same quantity in the DFT framework to perform a comparison and set the value of\n",
    "the scissor correction."
   ]
  },
  {
   "cell_type": "code",
   "execution_count": 49,
   "metadata": {},
   "outputs": [],
   "source": [
    "run_path = 'BANDS'\n",
    "kpoints = ['12x12x3','15x15x4','18x18x5']"
   ]
  },
  {
   "cell_type": "code",
   "execution_count": 50,
   "metadata": {},
   "outputs": [
    {
     "name": "stdout",
     "output_type": "stream",
     "text": [
      "SAVE folder DFT_analysis/kpoints_12x12x3-nbnds_60.save/SAVE already present. No operations performed.\n",
      "SAVE folder already present in BANDS/12x12x3. No operations performed.\n",
      "SAVE folder DFT_analysis/kpoints_15x15x4-nbnds_60.save/SAVE already present. No operations performed.\n",
      "SAVE folder already present in BANDS/15x15x4. No operations performed.\n",
      "SAVE folder DFT_analysis/kpoints_18x18x5-nbnds_60.save/SAVE already present. No operations performed.\n",
      "Create folder path BANDS/18x18x5\n",
      "Create a symlink of DFT_analysis/kpoints_18x18x5-nbnds_60.save/SAVE in BANDS/18x18x5\n",
      "Build the r_setup in the run_dir path BANDS/18x18x5\n"
     ]
    }
   ],
   "source": [
    "for k in kpoints:\n",
    "    source_dir = 'DFT_analysis/kpoints_%s-nbnds_60.save'%k\n",
    "    run_dir = os.path.join(run_path,k)\n",
    "    Tools.init_yambo_run_dir(Tools.make_p2y(source_dir),run_dir=run_dir)"
   ]
  },
  {
   "cell_type": "code",
   "execution_count": 51,
   "metadata": {},
   "outputs": [
    {
     "name": "stdout",
     "output_type": "stream",
     "text": [
      "Initialize a Dataset with 2 parallel tasks\n"
     ]
    }
   ],
   "source": [
    "band_range = [47,56]\n",
    "bands_step = 50\n",
    "\n",
    "# in crystal coordinates\n",
    "G = [0.,0.,0.]\n",
    "Kp = [1./3.,1./3.,0.]\n",
    "Mp = [0.,0.5,0.]\n",
    "high_sym = {'G':G,'K':Kp,'M':Mp} # useful to label the high-sym point on the path\n",
    "path = [G,Mp,Kp,G]\n",
    "#GfnQP_E = {'9x9x1' :  [0.25,1.,1.], '12x12x3' : [0.18,1.,1.], '16x16x4' : [0.0,1,1.2]}\n",
    "\n",
    "study = D.Dataset(num_tasks=2,skip=True)\n",
    "\n",
    "for k in kpoints:\n",
    "    run_dir = os.path.join(run_path,k)\n",
    "    inp = I.YamboInput(args='ypp -s b -V qp',folder=run_dir,filename='ypp.in')\n",
    "    inp.set_array_variables(BANDS_bands=band_range,BANDS_steps=bands_step,BANDS_kpts=path)\n",
    "    #inp.set_array_variables(GfnQP_E=GfnQP_E[k])\n",
    "    inp.set_scalar_variables(cooIn='rlu',cooOut='rlu')\n",
    "    inp['variables']['INTERP_mode'] = 'BOLTZ'\n",
    "    inp['variables']['INTERP_Shell_Fac'] = [20,'']\n",
    "    inp['variables']['GfnQP_DbGd_INTERP_mode'] = 'BOLTZ'\n",
    "    inp['variables']['GfnQP_INTERP_shells'] = [20,'']\n",
    "    idd = 'ypp_bands_dft_boltz_%s'%k\n",
    "    study.append_run(run_dir=run_dir,id=idd,input=inp,runner=ypp_code) "
   ]
  },
  {
   "cell_type": "code",
   "execution_count": 52,
   "metadata": {},
   "outputs": [
    {
     "data": {
      "text/plain": [
       "{'label': 'Dataset',\n",
       " 'run_dir': 'BANDS/12x12x3',\n",
       " 'num_tasks': 2,\n",
       " 'verbose': True,\n",
       " 'skip': True,\n",
       " 'input': {'args': 'ypp -s b -V qp',\n",
       "  'folder': 'BANDS/12x12x3',\n",
       "  'filename': 'ypp.in',\n",
       "  'arguments': [],\n",
       "  'variables': {'INTERP_Shell_Fac': [20, ''],\n",
       "   'INTERP_NofNN': [1.0, ''],\n",
       "   'OutputAlat': [0.0, ''],\n",
       "   'BANDS_steps': [50, ''],\n",
       "   'GfnQP_INTERP_NN': [1.0, ''],\n",
       "   'GfnQP_INTERP_shells': [20, ''],\n",
       "   'GfnQP_Wv_E': [0.0, 'eV'],\n",
       "   'GfnQP_Wv_dos': [0.0, 'eV'],\n",
       "   'GfnQP_Wc_E': [0.0, 'eV'],\n",
       "   'GfnQP_Wc_dos': [0.0, 'eV'],\n",
       "   'PROJECT_mode': 'none',\n",
       "   'INTERP_mode': 'BOLTZ',\n",
       "   'cooIn': 'rlu',\n",
       "   'cooOut': 'rlu',\n",
       "   'CIRCUIT_E_DB_path': 'none',\n",
       "   'GfnQPdb': 'none',\n",
       "   'GfnQP_DbGd_INTERP_mode': 'BOLTZ',\n",
       "   'GfnQP_Z': [(1+0j), ''],\n",
       "   'BANDS_bands': [[47, 56], ''],\n",
       "   'GfnQP_E': [[0.0, 1.0, 1.0], ''],\n",
       "   'GfnQP_Wv': [[0.0, 0.0, 0.0], ''],\n",
       "   'GfnQP_Wc': [[0.0, 0.0, 0.0], ''],\n",
       "   'BANDS_kpts': [[[0.0, 0.0, 0.0],\n",
       "     [0.0, 0.5, 0.0],\n",
       "     [0.3333333333333333, 0.3333333333333333, 0.0],\n",
       "     [0.0, 0.0, 0.0]],\n",
       "    '']}},\n",
       " 'name': 'ypp_bands_dft_boltz_12x12x3'}"
      ]
     },
     "execution_count": 52,
     "metadata": {},
     "output_type": "execute_result"
    }
   ],
   "source": [
    "study.runs[0]"
   ]
  },
  {
   "cell_type": "code",
   "execution_count": 53,
   "metadata": {},
   "outputs": [
    {
     "name": "stdout",
     "output_type": "stream",
     "text": [
      "Run the selection [0, 1, 2] with the parallel task_groups [[0, 1], [2]] \n",
      "\n",
      "Run the task [0, 1] \n",
      "Skip the run of ypp_bands_dft_boltz_12x12x3\n",
      "Skip the run of ypp_bands_dft_boltz_15x15x4\n",
      "Task [0, 1] ended \n",
      " \n",
      "Run the task [2] \n",
      "run command: mpirun -np 32 ypp -F ypp_bands_dft_boltz_18x18x5.in -J ypp_bands_dft_boltz_18x18x5 -C ypp_bands_dft_boltz_18x18x5\n",
      "slurm submit:  cd BANDS/18x18x5 ; sbatch job_ypp_bands_dft_boltz_18x18x5.sh\n",
      "computation ypp_bands_dft_boltz_18x18x5 is running...\n",
      "computation ypp_bands_dft_boltz_18x18x5 ended\n",
      "Run performed in 08s\n",
      "Task [2] ended \n",
      " \n"
     ]
    }
   ],
   "source": [
    "results = study.run()"
   ]
  },
  {
   "cell_type": "markdown",
   "metadata": {},
   "source": [
    "We show the GW correction for the valence and conduction bands.\n",
    "\n",
    "We include bands from 47 to 56, so in this range valence bands are 4 and 5 (bands index starts from 0 in the python array)"
   ]
  },
  {
   "cell_type": "code",
   "execution_count": 75,
   "metadata": {},
   "outputs": [
    {
     "data": {
      "text/plain": [
       "Text(0.5, 1.0, 'WSe$_2$ bands k_15x15x4')"
      ]
     },
     "execution_count": 75,
     "metadata": {},
     "output_type": "execute_result"
    },
    {
     "data": {
      "image/png": "[encoded data removed]",
      "text/plain": [
       "<Figure size 864x648 with 1 Axes>"
      ]
     },
     "metadata": {
      "needs_background": "light"
     },
     "output_type": "display_data"
    }
   ],
   "source": [
    "ind = 1\n",
    "\n",
    "bands = U.BandStructure.from_Ypp(results[ind],high_sym,suffix='bands_interpolated')\n",
    "fig, ax = plt.subplots(figsize=(12, 9))\n",
    "bands.plot(plt,selection=[2,3,4,5,6,7,8,9],linestyle='-')\n",
    "ax.set_ylabel('Energy (eV)',size=16)\n",
    "plt.title('WSe$_2$ bands k_%s'%kpoints[ind],size=16)"
   ]
  },
  {
   "cell_type": "markdown",
   "metadata": {},
   "source": [
    "We compute the (indirect) gap"
   ]
  },
  {
   "cell_type": "code",
   "execution_count": 76,
   "metadata": {},
   "outputs": [
    {
     "data": {
      "text/plain": [
       "(['$\\\\Gamma$', '$\\\\Gamma$', 'K', 'M'],\n",
       " [0.0, 1.3440817278312105, 0.872677740669527, 0.49999994])"
      ]
     },
     "execution_count": 76,
     "metadata": {},
     "output_type": "execute_result"
    }
   ],
   "source": [
    "bands.get_high_sym_positions()"
   ]
  },
  {
   "cell_type": "code",
   "execution_count": 77,
   "metadata": {},
   "outputs": [
    {
     "data": {
      "text/plain": [
       "68"
      ]
     },
     "execution_count": 77,
     "metadata": {},
     "output_type": "execute_result"
    }
   ],
   "source": [
    "path = bands.get_path()\n",
    "ind_K = np.where(path == bands.get_high_sym_positions()[1][2])[0][0]\n",
    "ind_K"
   ]
  },
  {
   "cell_type": "code",
   "execution_count": 78,
   "metadata": {},
   "outputs": [
    {
     "data": {
      "text/plain": [
       "(0.98902288, 1.335694287)"
      ]
     },
     "execution_count": 78,
     "metadata": {},
     "output_type": "execute_result"
    }
   ],
   "source": [
    "val,cond = bands.bands[5],bands.bands[6]\n",
    "gap = min(cond)-val[ind_K]\n",
    "direct_gap = cond[ind_K]-val[ind_K]\n",
    "gap,direct_gap"
   ]
  },
  {
   "cell_type": "code",
   "execution_count": 79,
   "metadata": {},
   "outputs": [
    {
     "data": {
      "text/plain": [
       "0.26097711999999995"
      ]
     },
     "execution_count": 79,
     "metadata": {},
     "output_type": "execute_result"
    }
   ],
   "source": [
    "exp_gap = 1.25\n",
    "scissor = exp_gap-gap\n",
    "scissor"
   ]
  },
  {
   "cell_type": "markdown",
   "metadata": {},
   "source": [
    "Performing this analysis for all the k samplings we build the dictionary we observe that the value\n",
    "\n",
    "scissor = 0.261\n",
    "\n",
    "reproduce the experimental gap for all the k samplings."
   ]
  },
  {
   "cell_type": "code",
   "execution_count": 80,
   "metadata": {},
   "outputs": [],
   "source": [
    "scissor = 0.261 # eV"
   ]
  },
  {
   "cell_type": "markdown",
   "metadata": {},
   "source": [
    "Using this value we obtain a direct gap of"
   ]
  },
  {
   "cell_type": "code",
   "execution_count": 81,
   "metadata": {},
   "outputs": [
    {
     "data": {
      "text/plain": [
       "1.596694287"
      ]
     },
     "execution_count": 81,
     "metadata": {},
     "output_type": "execute_result"
    }
   ],
   "source": [
    "direct_gap+scissor"
   ]
  },
  {
   "cell_type": "markdown",
   "metadata": {},
   "source": [
    "and the optical transition int the K valley given by "
   ]
  },
  {
   "cell_type": "code",
   "execution_count": 82,
   "metadata": {},
   "outputs": [
    {
     "data": {
      "text/plain": [
       "(array([22, 68, 91]), array([1.26458645, 1.21940041, 0.872729  ]))"
      ]
     },
     "execution_count": 82,
     "metadata": {},
     "output_type": "execute_result"
    }
   ],
   "source": [
    "cond_min_ind = argrelextrema(-cond,np.greater,order=3)[0]\n",
    "cond_min = cond[cond_min_ind]\n",
    "cond_min_ind,cond_min"
   ]
  },
  {
   "cell_type": "markdown",
   "metadata": {},
   "source": [
    "The minimum in the K valley corresponds to cond_min_ind=91"
   ]
  },
  {
   "cell_type": "code",
   "execution_count": 83,
   "metadata": {},
   "outputs": [
    {
     "data": {
      "text/plain": [
       "2.129538856"
      ]
     },
     "execution_count": 83,
     "metadata": {},
     "output_type": "execute_result"
    }
   ],
   "source": [
    "gap_Kvalley = scissor+cond[91]-val[91]\n",
    "gap_Kvalley"
   ]
  },
  {
   "cell_type": "markdown",
   "metadata": {},
   "source": [
    "so the gap in the K valley is 2.12 eV."
   ]
  },
  {
   "cell_type": "code",
   "execution_count": null,
   "metadata": {},
   "outputs": [],
   "source": []
  },
  {
   "cell_type": "code",
   "execution_count": null,
   "metadata": {},
   "outputs": [],
   "source": []
  },
  {
   "cell_type": "code",
   "execution_count": null,
   "metadata": {},
   "outputs": [],
   "source": []
  },
  {
   "cell_type": "code",
   "execution_count": null,
   "metadata": {},
   "outputs": [],
   "source": []
  }
 ],
 "metadata": {
  "kernelspec": {
   "display_name": "Python 3",
   "language": "python",
   "name": "python3"
  },
  "language_info": {
   "codemirror_mode": {
    "name": "ipython",
    "version": 3
   },
   "file_extension": ".py",
   "mimetype": "text/x-python",
   "name": "python",
   "nbconvert_exporter": "python",
   "pygments_lexer": "ipython3",
   "version": "3.6.8"
  }
 },
 "nbformat": 4,
 "nbformat_minor": 4
}
