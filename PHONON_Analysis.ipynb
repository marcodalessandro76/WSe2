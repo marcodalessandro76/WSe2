{
 "cells": [
  {
   "cell_type": "code",
   "execution_count": 1,
   "metadata": {},
   "outputs": [],
   "source": [
    "# useful to autoreload the module without restarting the kernel\n",
    "%load_ext autoreload\n",
    "%autoreload 2"
   ]
  },
  {
   "cell_type": "code",
   "execution_count": 2,
   "metadata": {},
   "outputs": [],
   "source": [
    "from mppi import InputFiles as I, Calculators as C, Datasets as D, Parsers as P, Utilities as U\n",
    "from mppi.Calculators import Tools\n",
    "from mppi.Datasets import PostProcessing as PP\n",
    "from mppi.Utilities import Constants as Const\n",
    "from mppi.Utilities import LatticeUtils as LL\n",
    "import matplotlib.pyplot as plt\n",
    "import numpy as np\n",
    "import os, yaml"
   ]
  },
  {
   "cell_type": "code",
   "execution_count": 3,
   "metadata": {},
   "outputs": [
    {
     "name": "stdout",
     "output_type": "stream",
     "text": [
      "Initialize a QuantumESPRESSO calculator with scheduler direct\n"
     ]
    }
   ],
   "source": [
    "# RunRules for local computations\n",
    "mpi = 4\n",
    "omp = 2\n",
    "\n",
    "rr = C.RunRules(omp_num_threads=omp,mpi=mpi)\n",
    "code = C.QeCalculator(rr)\n",
    "#code.global_options()"
   ]
  },
  {
   "cell_type": "code",
   "execution_count": 3,
   "metadata": {},
   "outputs": [
    {
     "name": "stdout",
     "output_type": "stream",
     "text": [
      "Initialize a QuantumESPRESSO calculator with scheduler slurm\n"
     ]
    },
    {
     "data": {
      "text/plain": [
       "{'scheduler': 'slurm',\n",
       " 'nodes': 1,\n",
       " 'ntasks_per_node': 16,\n",
       " 'cpus_per_task': 2,\n",
       " 'omp_num_threads': 2,\n",
       " 'gpus_per_node': None,\n",
       " 'memory': '125000',\n",
       " 'time': '11:59:00',\n",
       " 'partition': 'all12h',\n",
       " 'account': None,\n",
       " 'qos': None,\n",
       " 'map_by': None,\n",
       " 'pe': 1,\n",
       " 'rank_by': None,\n",
       " 'executable': 'pw.x',\n",
       " 'skip': True,\n",
       " 'clean_restart': True,\n",
       " 'dry_run': False,\n",
       " 'wait_end_run': True,\n",
       " 'activate_BeeOND': True,\n",
       " 'verbose': True}"
      ]
     },
     "execution_count": 3,
     "metadata": {},
     "output_type": "execute_result"
    }
   ],
   "source": [
    "# RunRules for ismhpc\n",
    "# The product of ntasks_per_node*cpus_per_task is equal to 32. \n",
    "# Many mpi are needed for better performances\n",
    "nodes = 1\n",
    "ntasks_per_node = 16\n",
    "cpus_per_task=2\n",
    "omp_num_threads=2\n",
    "\n",
    "ntasks = nodes*ntasks_per_node\n",
    "\n",
    "rr = C.RunRules(scheduler='slurm',partition='all12h',\n",
    "                memory='125000',time='11:59:00',\n",
    "                nodes=nodes,ntasks_per_node=ntasks_per_node,\n",
    "                cpus_per_task=cpus_per_task,\n",
    "                omp_num_threads=omp_num_threads)\n",
    "code = C.QeCalculator(rr,activate_BeeOND=True) #,skip=False,clean_restart=False\n",
    "code.global_options()"
   ]
  },
  {
   "cell_type": "markdown",
   "metadata": {
    "tags": []
   },
   "source": [
    "# PHONON analysis of the bulk WSe$_2$"
   ]
  },
  {
   "cell_type": "markdown",
   "metadata": {},
   "source": [
    "We compute the electron-phonon matrix elements using the QuantumESPRESSO package."
   ]
  },
  {
   "cell_type": "code",
   "execution_count": 4,
   "metadata": {},
   "outputs": [],
   "source": [
    "run_dir = 'PHONON'"
   ]
  },
  {
   "cell_type": "markdown",
   "metadata": {},
   "source": [
    "## SCF and NSCF calculations"
   ]
  },
  {
   "cell_type": "code",
   "execution_count": 5,
   "metadata": {},
   "outputs": [],
   "source": [
    "prefix = 'WSe2'\n",
    "inp = I.PwInput(file='Pw_input_Marini/scf.in')\n",
    "inp.set_scf(conv_thr=1e-15,force_symmorphic=True)\n",
    "inp.set_pseudo_dir('../../pseudos')\n",
    "#print(inp.convert_string())"
   ]
  },
  {
   "cell_type": "code",
   "execution_count": 6,
   "metadata": {},
   "outputs": [
    {
     "name": "stdout",
     "output_type": "stream",
     "text": [
      "Skip the run of WSe2.scf\n"
     ]
    },
    {
     "data": {
      "text/plain": [
       "'/work/dalessandro/NEQ_EXCITONIC_TRANSITIONS/WSe2/PHONON/scf/WSe2.save/data-file-schema.xml'"
      ]
     },
     "execution_count": 6,
     "metadata": {},
     "output_type": "execute_result"
    }
   ],
   "source": [
    "name = 'WSe2.scf'\n",
    "scf_run_dir = os.path.join(run_dir,'scf')\n",
    "results = code.run(input=inp,run_dir=scf_run_dir,name=name)\n",
    "results"
   ]
  },
  {
   "cell_type": "code",
   "execution_count": 7,
   "metadata": {},
   "outputs": [
    {
     "name": "stdout",
     "output_type": "stream",
     "text": [
      "&control\n",
      "         calculation = 'nscf'\n",
      "              outdir = './'\n",
      "              prefix = 'WSe2'\n",
      "          pseudo_dir = '../../pseudos'\n",
      "           verbosity = 'high'\n",
      "/&end\n",
      "&system\n",
      "           celldm(1) = 6.1983017192617\n",
      "           celldm(3) = 3.95\n",
      "             ecutwfc = 50\n",
      "    force_symmorphic = .true.\n",
      "               ibrav = 4\n",
      "            lspinorb = .true.\n",
      "                 nat = 6\n",
      "                nbnd = 70\n",
      "            noncolin = .true.\n",
      "                ntyp = 2\n",
      "/&end\n",
      "&electrons\n",
      "            conv_thr = 1e-15\n",
      "      diago_full_acc = .false.\n",
      "/&end\n",
      "ATOMIC_SPECIES\n",
      "  Se   32.065            Se_FR.upf\n",
      "   W   183.84             W_FR.upf\n",
      "ATOMIC_POSITIONS { crystal }\n",
      "  W   0.3333330000   0.6666670000   0.2500000000\n",
      "  W   0.6666670000   0.3333330000   0.7500000000\n",
      " Se   0.3333330000   0.6666670000   0.6211484930\n",
      " Se   0.6666670000   0.3333330000   0.1211484930\n",
      " Se   0.3333330000   0.6666670000   0.8788515070\n",
      " Se   0.6666670000   0.3333330000   0.3788515070\n",
      "K_POINTS { automatic }\n",
      "  9  9  1  0  0  0\n"
     ]
    }
   ],
   "source": [
    "nbnds = 70\n",
    "inp.set_nscf(nbnds,force_symmorphic=True,conv_thr=1e-15)\n",
    "inp.set_kpoints(points=[9,9,1])\n",
    "print(inp.convert_string())"
   ]
  },
  {
   "cell_type": "code",
   "execution_count": 8,
   "metadata": {},
   "outputs": [
    {
     "name": "stdout",
     "output_type": "stream",
     "text": [
      "Skip the run of WSe2.nscf\n",
      "The folder /work/dalessandro/NEQ_EXCITONIC_TRANSITIONS/WSe2/PHONON/nscf/WSe2.save already exists. Source_dir PHONON/scf/WSe2.save not copied\n"
     ]
    },
    {
     "data": {
      "text/plain": [
       "'/work/dalessandro/NEQ_EXCITONIC_TRANSITIONS/WSe2/PHONON/nscf/WSe2.save/data-file-schema.xml'"
      ]
     },
     "execution_count": 8,
     "metadata": {},
     "output_type": "execute_result"
    }
   ],
   "source": [
    "name = 'WSe2.nscf'\n",
    "nscf_run_dir = os.path.join(run_dir,'nscf')\n",
    "results = code.run(input=inp,run_dir=nscf_run_dir,name=name,source_dir=os.path.join(scf_run_dir,prefix+'.save'))\n",
    "results"
   ]
  },
  {
   "cell_type": "code",
   "execution_count": 9,
   "metadata": {},
   "outputs": [
    {
     "name": "stdout",
     "output_type": "stream",
     "text": [
      "Parse file : /work/dalessandro/NEQ_EXCITONIC_TRANSITIONS/WSe2/PHONON/nscf/WSe2.save/data-file-schema.xml\n"
     ]
    }
   ],
   "source": [
    "data = P.PwParser(results)"
   ]
  },
  {
   "cell_type": "code",
   "execution_count": 10,
   "metadata": {},
   "outputs": [
    {
     "data": {
      "text/plain": [
       "array([[0.        , 0.        , 0.        ],\n",
       "       [0.        , 0.12830006, 0.        ],\n",
       "       [0.        , 0.25660012, 0.        ],\n",
       "       [0.        , 0.38490018, 0.        ],\n",
       "       [0.        , 0.51320024, 0.        ],\n",
       "       [0.11111111, 0.19245009, 0.        ],\n",
       "       [0.11111111, 0.32075015, 0.        ],\n",
       "       [0.11111111, 0.44905021, 0.        ],\n",
       "       [0.11111111, 0.57735027, 0.        ],\n",
       "       [0.22222222, 0.38490018, 0.        ],\n",
       "       [0.22222222, 0.51320024, 0.        ],\n",
       "       [0.33333333, 0.57735027, 0.        ]])"
      ]
     },
     "execution_count": 10,
     "metadata": {},
     "output_type": "execute_result"
    }
   ],
   "source": [
    "kpoints=data.kpoints\n",
    "kpoints"
   ]
  },
  {
   "cell_type": "markdown",
   "metadata": {},
   "source": [
    "## Phonon calculations"
   ]
  },
  {
   "cell_type": "markdown",
   "metadata": {},
   "source": [
    "We run the computation to compute the dynamical matrix and the dvscf files. Computations are very lengthly and have\n",
    "been split into three groups, following the approach of Andrea."
   ]
  },
  {
   "cell_type": "code",
   "execution_count": 20,
   "metadata": {},
   "outputs": [
    {
     "name": "stdout",
     "output_type": "stream",
     "text": [
      "Initialize a QuantumESPRESSO calculator with scheduler slurm\n"
     ]
    },
    {
     "data": {
      "text/plain": [
       "{'scheduler': 'slurm',\n",
       " 'nodes': 2,\n",
       " 'ntasks_per_node': 32,\n",
       " 'cpus_per_task': 1,\n",
       " 'omp_num_threads': 1,\n",
       " 'gpus_per_node': None,\n",
       " 'memory': '125000',\n",
       " 'time': None,\n",
       " 'partition': 'slownodes',\n",
       " 'account': None,\n",
       " 'qos': None,\n",
       " 'map_by': None,\n",
       " 'pe': 1,\n",
       " 'rank_by': None,\n",
       " 'executable': 'ph.x',\n",
       " 'skip': True,\n",
       " 'clean_restart': False,\n",
       " 'dry_run': False,\n",
       " 'wait_end_run': True,\n",
       " 'activate_BeeOND': True,\n",
       " 'verbose': True}"
      ]
     },
     "execution_count": 20,
     "metadata": {},
     "output_type": "execute_result"
    }
   ],
   "source": [
    "nodes = 2\n",
    "ntasks_per_node = 32\n",
    "cpus_per_task=1\n",
    "omp_num_threads=1\n",
    "\n",
    "ntasks = nodes*ntasks_per_node\n",
    "\n",
    "rr = C.RunRules(scheduler='slurm',partition='slownodes',\n",
    "                memory='125000',nodes=nodes,ntasks_per_node=ntasks_per_node,\n",
    "                cpus_per_task=cpus_per_task,\n",
    "                omp_num_threads=omp_num_threads)\n",
    "code_ph = C.QeCalculator(rr,executable='ph.x',activate_BeeOND=True) #,skip=False,clean_restart=False\n",
    "code_ph.global_options()"
   ]
  },
  {
   "cell_type": "code",
   "execution_count": 21,
   "metadata": {},
   "outputs": [
    {
     "name": "stdout",
     "output_type": "stream",
     "text": [
      "&inputph\n",
      "              LAST_Q = 4\n",
      "             START_Q = 1\n",
      "     electron_phonon = 'dvscf'\n",
      "               epsil = .true.\n",
      "            fildvscf = 'WSe2-dvscf'\n",
      "              fildyn = 'WSe2.dyn'\n",
      "               ldisp = .false.\n",
      "              outdir = './'\n",
      "              prefix = 'WSe2'\n",
      "               qplot = .true.\n",
      "          search_sym = .false.\n",
      "              tr2_ph = 1e-12\n",
      "               trans = .true.\n",
      "/&end\n",
      "12\n",
      "  0.00000000   0.00000000   0.00000000 1 \n",
      "  0.00000000   0.12830006   0.00000000 1 \n",
      "  0.00000000   0.25660012   0.00000000 1 \n",
      "  0.00000000   0.38490018   0.00000000 1 \n",
      "  0.00000000   0.51320024   0.00000000 1 \n",
      "  0.11111111   0.19245009   0.00000000 1 \n",
      "  0.11111111   0.32075015   0.00000000 1 \n",
      "  0.11111111   0.44905021   0.00000000 1 \n",
      "  0.11111111   0.57735027   0.00000000 1 \n",
      "  0.22222222   0.38490018   0.00000000 1 \n",
      "  0.22222222   0.51320024   0.00000000 1 \n",
      "  0.33333333   0.57735027   0.00000000 1 \n"
     ]
    }
   ],
   "source": [
    "# tr_ph=1e-12 has run without reaching convergence\n",
    "prefix = 'WSe2'\n",
    "start_q,last_q=1,4\n",
    "inp = I.PhInput(tr2_ph=5e-9,prefix=prefix)\n",
    "inp.set_inputph_variables(search_sym='.false.',epsil='.true.',\n",
    "        fildvscf=\"'WSe2-dvscf'\",fildyn=\"'WSe2.dyn'\",electron_phonon=\"'dvscf'\")\n",
    "inp.set_inputph_variables(START_Q=start_q,LAST_Q=last_q)\n",
    "inp.set_kpoints(Tools.build_pw_klist(kpoints))\n",
    "print(inp.convert_string())"
   ]
  },
  {
   "cell_type": "code",
   "execution_count": null,
   "metadata": {},
   "outputs": [
    {
     "name": "stdout",
     "output_type": "stream",
     "text": [
      "create the run_dir folder : 'PHONON/phonon-startq_1-lastq_4'\n",
      "run performed starting from existing results\n",
      "copy source_dir PHONON/scf/WSe2.save in the /work/dalessandro/NEQ_EXCITONIC_TRANSITIONS/WSe2/PHONON/phonon-startq_1-lastq_4/WSe2.save\n",
      "run command: mpirun -np 64 ph.x -inp WSe2-startq_1-lastq_4.phonon.in > WSe2-startq_1-lastq_4.phonon.log\n",
      "slurm submit:  cd PHONON/phonon-startq_1-lastq_4 ; sbatch job_WSe2-startq_1-lastq_4.phonon.sh\n",
      "computation WSe2-startq_1-lastq_4.phonon is running...\n"
     ]
    }
   ],
   "source": [
    "name = 'WSe2-startq_%s-lastq_%s.phonon'%(start_q,last_q)\n",
    "ph_run_dir = os.path.join(run_dir,'phonon-startq_%s-lastq_%s'%(start_q,last_q))\n",
    "results = code_ph.run(input=inp,run_dir=ph_run_dir,name=name,source_dir=os.path.join(scf_run_dir,prefix+'.save'))"
   ]
  },
  {
   "cell_type": "code",
   "execution_count": 15,
   "metadata": {},
   "outputs": [
    {
     "name": "stdout",
     "output_type": "stream",
     "text": [
      "&inputph\n",
      "              LAST_Q = 8\n",
      "             START_Q = 5\n",
      "     electron_phonon = 'dvscf'\n",
      "               epsil = .false.\n",
      "            fildvscf = 'WSe2-dvscf'\n",
      "              fildyn = 'WSe2.dyn'\n",
      "               ldisp = .false.\n",
      "              outdir = './'\n",
      "              prefix = 'WSe2'\n",
      "               qplot = .true.\n",
      "          search_sym = .false.\n",
      "              tr2_ph = 1e-12\n",
      "               trans = .true.\n",
      "/&end\n",
      "12\n",
      "  0.00000000   0.00000000   0.00000000 1 \n",
      "  0.00000000   0.12830006   0.00000000 1 \n",
      "  0.00000000   0.25660012   0.00000000 1 \n",
      "  0.00000000   0.38490018   0.00000000 1 \n",
      "  0.00000000   0.51320024   0.00000000 1 \n",
      "  0.11111111   0.19245009   0.00000000 1 \n",
      "  0.11111111   0.32075015   0.00000000 1 \n",
      "  0.11111111   0.44905021   0.00000000 1 \n",
      "  0.11111111   0.57735027   0.00000000 1 \n",
      "  0.22222222   0.38490018   0.00000000 1 \n",
      "  0.22222222   0.51320024   0.00000000 1 \n",
      "  0.33333333   0.57735027   0.00000000 1 \n"
     ]
    }
   ],
   "source": [
    "prefix = 'WSe2'\n",
    "start_q,last_q=5,8\n",
    "inp = I.PhInput(tr2_ph=1e-12,prefix=prefix)\n",
    "inp.set_inputph_variables(search_sym='.false.',epsil='.false.',\n",
    "        fildvscf=\"'WSe2-dvscf'\",fildyn=\"'WSe2.dyn'\",electron_phonon=\"'dvscf'\")\n",
    "inp.set_inputph_variables(START_Q=start_q,LAST_Q=last_q)\n",
    "inp.set_kpoints(Tools.build_pw_klist(kpoints))\n",
    "print(inp.convert_string())"
   ]
  },
  {
   "cell_type": "code",
   "execution_count": null,
   "metadata": {},
   "outputs": [],
   "source": [
    "name = 'WSe2-startq_%s-lastq_%s.phonon'%(start_q,last_q)\n",
    "ph_run_dir = os.path.join(run_dir,'phonon-startq_%s-lastq_%s'%(start_q,last_q))\n",
    "results = code_ph.run(input=inp,run_dir=ph_run_dir,name=name,source_dir=os.path.join(scf_run_dir,prefix+'.save'))"
   ]
  },
  {
   "cell_type": "code",
   "execution_count": 17,
   "metadata": {},
   "outputs": [
    {
     "name": "stdout",
     "output_type": "stream",
     "text": [
      "&inputph\n",
      "              LAST_Q = 12\n",
      "             START_Q = 9\n",
      "     electron_phonon = 'dvscf'\n",
      "               epsil = .false.\n",
      "            fildvscf = 'WSe2-dvscf'\n",
      "              fildyn = 'WSe2.dyn'\n",
      "               ldisp = .false.\n",
      "              outdir = './'\n",
      "              prefix = 'WSe2'\n",
      "               qplot = .true.\n",
      "          search_sym = .false.\n",
      "              tr2_ph = 1e-12\n",
      "               trans = .true.\n",
      "/&end\n",
      "12\n",
      "  0.00000000   0.00000000   0.00000000 1 \n",
      "  0.00000000   0.12830006   0.00000000 1 \n",
      "  0.00000000   0.25660012   0.00000000 1 \n",
      "  0.00000000   0.38490018   0.00000000 1 \n",
      "  0.00000000   0.51320024   0.00000000 1 \n",
      "  0.11111111   0.19245009   0.00000000 1 \n",
      "  0.11111111   0.32075015   0.00000000 1 \n",
      "  0.11111111   0.44905021   0.00000000 1 \n",
      "  0.11111111   0.57735027   0.00000000 1 \n",
      "  0.22222222   0.38490018   0.00000000 1 \n",
      "  0.22222222   0.51320024   0.00000000 1 \n",
      "  0.33333333   0.57735027   0.00000000 1 \n"
     ]
    }
   ],
   "source": [
    "prefix = 'WSe2'\n",
    "start_q,last_q=9,12\n",
    "inp = I.PhInput(tr2_ph=1e-12,prefix=prefix)\n",
    "inp.set_inputph_variables(search_sym='.false.',epsil='.false.',\n",
    "        fildvscf=\"'WSe2-dvscf'\",fildyn=\"'WSe2.dyn'\",electron_phonon=\"'dvscf'\")\n",
    "inp.set_inputph_variables(START_Q=start_q,LAST_Q=last_q)\n",
    "inp.set_kpoints(Tools.build_pw_klist(kpoints))\n",
    "print(inp.convert_string())"
   ]
  },
  {
   "cell_type": "code",
   "execution_count": null,
   "metadata": {},
   "outputs": [
    {
     "name": "stdout",
     "output_type": "stream",
     "text": [
      "delete job_out script: PHONON/phonon-startq_9-lastq_12/job_WSe2-startq_9-lastq_12.phonon.out\n",
      "run performed starting from existing results\n",
      "The folder /work/dalessandro/NEQ_EXCITONIC_TRANSITIONS/WSe2/PHONON/phonon-startq_9-lastq_12/WSe2.save already exists. Source_dir PHONON/scf/WSe2.save not copied\n",
      "run command: mpirun -np 32 ph.x -inp WSe2-startq_9-lastq_12.phonon.in > WSe2-startq_9-lastq_12.phonon.log\n",
      "slurm submit:  cd PHONON/phonon-startq_9-lastq_12 ; sbatch job_WSe2-startq_9-lastq_12.phonon.sh\n",
      "computation WSe2-startq_9-lastq_12.phonon is running...\n"
     ]
    }
   ],
   "source": [
    "name = 'WSe2-startq_%s-lastq_%s.phonon'%(start_q,last_q)\n",
    "ph_run_dir = os.path.join(run_dir,'phonon-startq_%s-lastq_%s'%(start_q,last_q))\n",
    "results = code_ph.run(input=inp,run_dir=ph_run_dir,name=name,source_dir=os.path.join(scf_run_dir,prefix+'.save'))"
   ]
  },
  {
   "cell_type": "markdown",
   "metadata": {},
   "source": [
    "## Electron-phonon calculations"
   ]
  },
  {
   "cell_type": "markdown",
   "metadata": {},
   "source": [
    "We compute the electron-phonon matrix elements."
   ]
  },
  {
   "cell_type": "code",
   "execution_count": 11,
   "metadata": {},
   "outputs": [],
   "source": [
    "elph_run_dir = 'PHONON/elph'\n",
    "elph_path = 'PHONON/elph/_ph0/WSe2.phsave'\n",
    "if not os.path.isdir(elph_path) : os.makedirs(elph_path)"
   ]
  },
  {
   "cell_type": "code",
   "execution_count": 13,
   "metadata": {},
   "outputs": [],
   "source": [
    "ph_dirs = ['PHONON/phonon-startq_1-lastq_4','PHONON/phonon-startq_5-lastq_8','PHONON/phonon-startq_9-lastq_12']"
   ]
  },
  {
   "cell_type": "code",
   "execution_count": 14,
   "metadata": {},
   "outputs": [],
   "source": [
    "# copy the dyn files\n",
    "for d in ph_dirs: \n",
    "    os.system('cp %s/WSe2.dyn* PHONON/elph/'%d)"
   ]
  },
  {
   "cell_type": "code",
   "execution_count": 15,
   "metadata": {},
   "outputs": [],
   "source": [
    "# copy the dvscf files\n",
    "for d in ph_dirs: \n",
    "    os.system('cp %s/_ph0/WSe2.WSe2-dvscf* PHONON/elph/_ph0/'%d)"
   ]
  },
  {
   "cell_type": "code",
   "execution_count": 16,
   "metadata": {},
   "outputs": [],
   "source": [
    "# copy the content of the WSe2.phsave\n",
    "for d in ph_dirs: \n",
    "    os.system('cp %s/_ph0/WSe2.phsave/* PHONON/elph/_ph0/WSe2.phsave/'%d)"
   ]
  },
  {
   "cell_type": "code",
   "execution_count": 17,
   "metadata": {},
   "outputs": [
    {
     "data": {
      "text/plain": [
       "0"
      ]
     },
     "execution_count": 17,
     "metadata": {},
     "output_type": "execute_result"
    }
   ],
   "source": [
    "# copy the nscf in the elph\n",
    "os.system('cp -r PHONON/nscf/WSe2.save/ PHONON/elph/')"
   ]
  },
  {
   "cell_type": "code",
   "execution_count": 18,
   "metadata": {},
   "outputs": [
    {
     "data": {
      "text/plain": [
       "0"
      ]
     },
     "execution_count": 18,
     "metadata": {},
     "output_type": "execute_result"
    }
   ],
   "source": [
    "# copy the nscf in the elph/_ph0\n",
    "os.system('cp -r PHONON/nscf/WSe2.save/ PHONON/elph/_ph0/')"
   ]
  },
  {
   "cell_type": "code",
   "execution_count": 19,
   "metadata": {},
   "outputs": [
    {
     "name": "stdout",
     "output_type": "stream",
     "text": [
      "Initialize a QuantumESPRESSO calculator with scheduler slurm\n"
     ]
    },
    {
     "data": {
      "text/plain": [
       "{'scheduler': 'slurm',\n",
       " 'nodes': 1,\n",
       " 'ntasks_per_node': 32,\n",
       " 'cpus_per_task': 1,\n",
       " 'omp_num_threads': 1,\n",
       " 'gpus_per_node': None,\n",
       " 'memory': '125000',\n",
       " 'time': None,\n",
       " 'partition': 'slownodes',\n",
       " 'account': None,\n",
       " 'qos': None,\n",
       " 'map_by': None,\n",
       " 'pe': 1,\n",
       " 'rank_by': None,\n",
       " 'executable': 'ph.x',\n",
       " 'skip': True,\n",
       " 'clean_restart': False,\n",
       " 'dry_run': False,\n",
       " 'wait_end_run': True,\n",
       " 'activate_BeeOND': False,\n",
       " 'verbose': True}"
      ]
     },
     "execution_count": 19,
     "metadata": {},
     "output_type": "execute_result"
    }
   ],
   "source": [
    "nodes = 1\n",
    "ntasks_per_node = 32\n",
    "cpus_per_task=1\n",
    "omp_num_threads=1\n",
    "\n",
    "ntasks = nodes*ntasks_per_node\n",
    "\n",
    "rr = C.RunRules(scheduler='slurm',partition='slownodes',\n",
    "                memory='125000',nodes=nodes,ntasks_per_node=ntasks_per_node,\n",
    "                cpus_per_task=cpus_per_task,\n",
    "                omp_num_threads=omp_num_threads)\n",
    "code_ph = C.QeCalculator(rr,executable='ph.x',activate_BeeOND=False,clean_restart=False) #,skip=False,clean_restart=False\n",
    "code_ph.global_options()"
   ]
  },
  {
   "cell_type": "code",
   "execution_count": 20,
   "metadata": {},
   "outputs": [
    {
     "name": "stdout",
     "output_type": "stream",
     "text": [
      "&inputph\n",
      "     electron_phonon = 'yambo'\n",
      "               epsil = .false.\n",
      "            fildvscf = 'WSe2-dvscf'\n",
      "              fildyn = 'WSe2.dyn'\n",
      "               ldisp = .false.\n",
      "              outdir = './'\n",
      "              prefix = 'WSe2'\n",
      "               qplot = .true.\n",
      "              tr2_ph = 1e-12\n",
      "               trans = .false.\n",
      "/&end\n",
      "12\n",
      "  0.00000000   0.00000000   0.00000000 1 \n",
      "  0.00000000   0.12830006   0.00000000 1 \n",
      "  0.00000000   0.25660012   0.00000000 1 \n",
      "  0.00000000   0.38490018   0.00000000 1 \n",
      "  0.00000000   0.51320024   0.00000000 1 \n",
      "  0.11111111   0.19245009   0.00000000 1 \n",
      "  0.11111111   0.32075015   0.00000000 1 \n",
      "  0.11111111   0.44905021   0.00000000 1 \n",
      "  0.11111111   0.57735027   0.00000000 1 \n",
      "  0.22222222   0.38490018   0.00000000 1 \n",
      "  0.22222222   0.51320024   0.00000000 1 \n",
      "  0.33333333   0.57735027   0.00000000 1 \n"
     ]
    }
   ],
   "source": [
    "prefix = 'WSe2'\n",
    "#start_q,last_q=1,4\n",
    "inp = I.PhInput(tr2_ph=1e-12,prefix=prefix)\n",
    "inp.set_inputph_variables(epsil='.false.',trans='.false.',\n",
    "        fildvscf=\"'WSe2-dvscf'\",fildyn=\"'WSe2.dyn'\",electron_phonon=\"'yambo'\")\n",
    "#inp.set_inputph_variables(START_Q=start_q,LAST_Q=last_q)\n",
    "inp.set_kpoints(Tools.build_pw_klist(kpoints))\n",
    "print(inp.convert_string())"
   ]
  },
  {
   "cell_type": "code",
   "execution_count": null,
   "metadata": {},
   "outputs": [
    {
     "name": "stdout",
     "output_type": "stream",
     "text": [
      "run performed starting from existing results\n",
      "run command: mpirun -np 32 ph.x -inp WSe2.in > WSe2.log\n",
      "slurm submit:  cd PHONON/elph ; sbatch job_WSe2.sh\n",
      "computation WSe2 is running...\n"
     ]
    }
   ],
   "source": [
    "name = 'WSe2'\n",
    "results = code_ph.run(input=inp,run_dir=elph_run_dir,name=name)"
   ]
  },
  {
   "cell_type": "markdown",
   "metadata": {},
   "source": [
    "Ph.x cannot compute the elph with th non collinear spin-orbit. \n",
    "\n",
    "I have removed this check in the\n",
    "line 820 of the file phq_reading.f90 (see https://gitlab.com/QEF/q-e/-/blob/fb444989adf93e51b983e53a44d5e510e7d7c668/PHonon/PH/phq_readin.f90)."
   ]
  },
  {
   "cell_type": "markdown",
   "metadata": {},
   "source": [
    "## Import in Yambo"
   ]
  },
  {
   "cell_type": "markdown",
   "metadata": {},
   "source": [
    "We use ypp_ph to generate the electron-phonon database that can be used by yambo.\n",
    "\n",
    "This procedure convert the file written in the elph/elph_dir"
   ]
  },
  {
   "cell_type": "code",
   "execution_count": 14,
   "metadata": {},
   "outputs": [
    {
     "name": "stdout",
     "output_type": "stream",
     "text": [
      "Executing command: cd PHONON/nscf/WSe2.save; p2y\n",
      "Create folder path PHONON/yambo\n",
      "Create a symlink of PHONON/nscf/WSe2.save/SAVE in PHONON/yambo\n",
      "Build the r_setup in the run_dir path PHONON/yambo\n"
     ]
    }
   ],
   "source": [
    "source_dir = 'PHONON/nscf/WSe2.save'\n",
    "run_dir = 'PHONON/yambo'\n",
    "Tools.init_yambo_run_dir(Tools.make_p2y(source_dir),run_dir=run_dir)"
   ]
  },
  {
   "cell_type": "code",
   "execution_count": 16,
   "metadata": {},
   "outputs": [],
   "source": [
    "elph_dir = 'PHONON/elph/elph_dir'\n",
    "if not os.path.isdir('PHONON/yambo/elph_dir'):\n",
    "    src = os.path.abspath(elph_dir)\n",
    "    dest = os.path.abspath('PHONON/yambo/elph_dir')\n",
    "    os.symlink(src,dest,target_is_directory=True)"
   ]
  },
  {
   "cell_type": "code",
   "execution_count": 17,
   "metadata": {},
   "outputs": [
    {
     "name": "stdout",
     "output_type": "stream",
     "text": [
      "Initialize a Yambo calculator with scheduler slurm\n"
     ]
    },
    {
     "data": {
      "text/plain": [
       "{'scheduler': 'slurm',\n",
       " 'nodes': 1,\n",
       " 'ntasks_per_node': 32,\n",
       " 'cpus_per_task': 1,\n",
       " 'omp_num_threads': 1,\n",
       " 'gpus_per_node': None,\n",
       " 'memory': '125000',\n",
       " 'time': None,\n",
       " 'partition': 'all12h',\n",
       " 'account': None,\n",
       " 'qos': None,\n",
       " 'map_by': None,\n",
       " 'pe': 1,\n",
       " 'rank_by': None,\n",
       " 'executable': 'ypp_ph',\n",
       " 'skip': True,\n",
       " 'clean_restart': True,\n",
       " 'dry_run': False,\n",
       " 'wait_end_run': True,\n",
       " 'activate_BeeOND': False,\n",
       " 'verbose': True,\n",
       " 'fatlog': False}"
      ]
     },
     "execution_count": 17,
     "metadata": {},
     "output_type": "execute_result"
    }
   ],
   "source": [
    "nodes = 1\n",
    "ntasks_per_node = 32\n",
    "cpus_per_task=1\n",
    "omp_num_threads=1\n",
    "\n",
    "ntasks = nodes*ntasks_per_node\n",
    "\n",
    "rr = C.RunRules(scheduler='slurm',partition='all12h',\n",
    "                memory='125000',nodes=nodes,ntasks_per_node=ntasks_per_node,\n",
    "                cpus_per_task=cpus_per_task,\n",
    "                omp_num_threads=omp_num_threads)\n",
    "code = C.YamboCalculator(rr,executable='ypp_ph')\n",
    "code.global_options()"
   ]
  },
  {
   "cell_type": "code",
   "execution_count": 21,
   "metadata": {},
   "outputs": [
    {
     "data": {
      "text/plain": [
       "{'args': 'ypp_ph -g g',\n",
       " 'folder': 'PHONON/yambo',\n",
       " 'filename': 'yambo.in',\n",
       " 'arguments': ['gkkp', 'GkkpExpand'],\n",
       " 'variables': {'PHfreqF': 'none', 'PHmodeF': 'none', 'DBsPATH': 'elph_dir/'}}"
      ]
     },
     "execution_count": 21,
     "metadata": {},
     "output_type": "execute_result"
    }
   ],
   "source": [
    "inp = I.YamboInput(args='ypp_ph -g g',folder=run_dir)\n",
    "inp.set_scalar_variables(DBsPATH='elph_dir/')\n",
    "inp['arguments'].append('GkkpExpand')\n",
    "inp"
   ]
  },
  {
   "cell_type": "code",
   "execution_count": 22,
   "metadata": {},
   "outputs": [],
   "source": [
    "inp.write('PHONON/yambo/','GKKP_expanded.in')"
   ]
  },
  {
   "cell_type": "code",
   "execution_count": null,
   "metadata": {},
   "outputs": [],
   "source": [
    "name= 'GKKP_expanded'\n",
    "code.run(input=inp,name=name,run_dir=run_dir)"
   ]
  },
  {
   "cell_type": "code",
   "execution_count": null,
   "metadata": {},
   "outputs": [],
   "source": []
  },
  {
   "cell_type": "code",
   "execution_count": null,
   "metadata": {},
   "outputs": [],
   "source": []
  },
  {
   "cell_type": "code",
   "execution_count": null,
   "metadata": {},
   "outputs": [],
   "source": []
  },
  {
   "cell_type": "code",
   "execution_count": null,
   "metadata": {},
   "outputs": [],
   "source": []
  },
  {
   "cell_type": "code",
   "execution_count": null,
   "metadata": {},
   "outputs": [],
   "source": []
  },
  {
   "cell_type": "code",
   "execution_count": null,
   "metadata": {},
   "outputs": [],
   "source": []
  },
  {
   "cell_type": "code",
   "execution_count": null,
   "metadata": {},
   "outputs": [],
   "source": []
  },
  {
   "cell_type": "code",
   "execution_count": null,
   "metadata": {},
   "outputs": [],
   "source": []
  },
  {
   "cell_type": "code",
   "execution_count": null,
   "metadata": {},
   "outputs": [],
   "source": []
  },
  {
   "cell_type": "code",
   "execution_count": null,
   "metadata": {},
   "outputs": [],
   "source": []
  }
 ],
 "metadata": {
  "kernelspec": {
   "display_name": "Python 3",
   "language": "python",
   "name": "python3"
  },
  "language_info": {
   "codemirror_mode": {
    "name": "ipython",
    "version": 3
   },
   "file_extension": ".py",
   "mimetype": "text/x-python",
   "name": "python",
   "nbconvert_exporter": "python",
   "pygments_lexer": "ipython3",
   "version": "3.6.8"
  }
 },
 "nbformat": 4,
 "nbformat_minor": 4
}
